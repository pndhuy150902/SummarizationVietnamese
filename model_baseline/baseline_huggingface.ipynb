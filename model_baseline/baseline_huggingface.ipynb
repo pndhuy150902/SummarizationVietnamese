{
 "cells": [
  {
   "cell_type": "code",
   "execution_count": 1,
   "metadata": {
    "ExecuteTime": {
     "end_time": "2024-02-06T11:02:58.953735100Z",
     "start_time": "2024-02-06T11:02:58.942583600Z"
    }
   },
   "outputs": [],
   "source": [
    "import os\n",
    "import gc\n",
    "import warnings\n",
    "warnings.filterwarnings(\"ignore\")"
   ]
  },
  {
   "cell_type": "code",
   "execution_count": null,
   "metadata": {},
   "outputs": [],
   "source": [
    "import evaluate\n",
    "import torch\n",
    "import pandas as pd\n",
    "import numpy as np\n",
    "from tqdm import tqdm\n",
    "from nltk.translate.bleu_score import sentence_bleu\n",
    "from datasets import Dataset, DatasetDict\n",
    "from transformers import logging, AutoModelForSeq2SeqLM, AutoTokenizer, DataCollatorForSeq2Seq, Seq2SeqTrainingArguments, Seq2SeqTrainer\n",
    "from peft import LoraConfig, get_peft_model, prepare_model_for_int8_training, TaskType, PeftConfig, PeftModel\n",
    "tqdm.pandas()\n",
    "logging.set_verbosity_error()\n",
    "device = torch.device(\"cuda\" if torch.cuda.is_available() else \"cpu\")\n",
    "gc.collect()\n",
    "torch.manual_seed(42)"
   ]
  },
  {
   "cell_type": "code",
   "execution_count": 3,
   "metadata": {
    "ExecuteTime": {
     "end_time": "2024-02-06T11:03:05.920834Z",
     "start_time": "2024-02-06T11:03:03.208345300Z"
    }
   },
   "outputs": [],
   "source": [
    "train_data = pd.read_csv('../dataset/full_train_data_summarization.csv')\n",
    "train_data_with_title = pd.read_csv('../dataset/full_train_data_title_summarization.csv')\n",
    "validation_data = pd.read_csv('../dataset/full_validation_data_summarization.csv')\n",
    "test_data = pd.read_csv('../dataset/full_test_data_summarization.csv')"
   ]
  },
  {
   "cell_type": "code",
   "execution_count": 4,
   "metadata": {
    "ExecuteTime": {
     "end_time": "2024-02-04T10:39:10.229473200Z",
     "start_time": "2024-02-04T10:39:10.207968Z"
    }
   },
   "outputs": [],
   "source": [
    "model_name = 'VietAI/vit5-base'"
   ]
  },
  {
   "cell_type": "code",
   "execution_count": 5,
   "metadata": {
    "ExecuteTime": {
     "end_time": "2024-02-04T10:39:22.690308600Z",
     "start_time": "2024-02-04T10:39:13.663736Z"
    }
   },
   "outputs": [],
   "source": [
    "tokenizer = AutoTokenizer.from_pretrained(model_name)"
   ]
  },
  {
   "cell_type": "code",
   "execution_count": 6,
   "metadata": {
    "ExecuteTime": {
     "end_time": "2024-02-04T10:39:24.900285200Z",
     "start_time": "2024-02-04T10:39:24.878907600Z"
    }
   },
   "outputs": [],
   "source": [
    "def preprocess_function(examples):\n",
    "  inputs = [doc for doc in examples[\"context\"]]\n",
    "  model_inputs = tokenizer(inputs, max_length=2048, truncation=True, padding=True)\n",
    "  labels = tokenizer(text_target=examples[\"summarization\"], max_length=768, truncation=True, padding=True)\n",
    "  model_inputs[\"labels\"] = labels[\"input_ids\"]\n",
    "  return model_inputs"
   ]
  },
  {
   "cell_type": "code",
   "execution_count": 7,
   "metadata": {
    "ExecuteTime": {
     "end_time": "2024-02-04T10:39:27.084875200Z",
     "start_time": "2024-02-04T10:39:26.837162800Z"
    }
   },
   "outputs": [],
   "source": [
    "new_data = DatasetDict({\n",
    "    \"train\": Dataset.from_dict(train_data),\n",
    "    \"validation\": Dataset.from_dict(validation_data)\n",
    "})"
   ]
  },
  {
   "cell_type": "code",
   "execution_count": null,
   "metadata": {},
   "outputs": [],
   "source": [
    "# Map dataset with multiprocessing\n",
    "tokenized_new_data = new_data.map(preprocess_function, batched=True, num_proc=8)"
   ]
  },
  {
   "cell_type": "code",
   "execution_count": null,
   "metadata": {},
   "outputs": [],
   "source": [
    "# Map dataset not with multiprocessing\n",
    "tokenized_new_data = new_data.map(preprocess_function, batched=True)"
   ]
  },
  {
   "cell_type": "code",
   "execution_count": 9,
   "metadata": {
    "ExecuteTime": {
     "end_time": "2024-02-04T10:40:18.257759300Z",
     "start_time": "2024-02-04T10:40:18.235574300Z"
    }
   },
   "outputs": [],
   "source": [
    "def compute_metrics(eval_preds):\n",
    "  preds, labels = eval_preds\n",
    "  labels = np.where(labels != -100, labels, tokenizer.pad_token_id)\n",
    "  decoded_labels = tokenizer.batch_decode(labels.tolist(), skip_special_tokens=True)\n",
    "  decoded_preds = tokenizer.batch_decode(preds.tolist(), skip_special_tokens=True)\n",
    "  bleu_metric = evaluate.load(\"bleu\")\n",
    "  references = [[reference_text] for reference_text in decoded_labels]\n",
    "  bleu_scores = bleu_metric.compute(references=references, predictions=decoded_preds)\n",
    "  bleu_score_1 = None\n",
    "  bleu_score_2 = None\n",
    "  bleu_score_3 = None\n",
    "  bleu_score_4 = None\n",
    "  bleu_score_avg = None\n",
    "  for k, v in bleu_scores.items():\n",
    "    if k == \"precisions\":\n",
    "      bleu_score_1 = v[0]\n",
    "      bleu_score_2 = v[1]        \n",
    "      bleu_score_3 = v[2]        \n",
    "      bleu_score_4 = v[3]\n",
    "      bleu_score_avg = (bleu_score_1 + bleu_score_2 + bleu_score_3 + bleu_score_4)/4\n",
    "      break\n",
    "  return {\n",
    "    'bleu@1': bleu_score_1,\n",
    "    'bleu@2': bleu_score_2,\n",
    "    'bleu@3': bleu_score_3,\n",
    "    'bleu@4': bleu_score_4,\n",
    "    'bleu@avg': bleu_score_avg\n",
    "  }"
   ]
  },
  {
   "cell_type": "code",
   "execution_count": 9,
   "metadata": {},
   "outputs": [],
   "source": [
    "def compute_metrics(eval_preds):\n",
    "  preds, labels = eval_preds\n",
    "  labels = np.where(labels != -100, labels, tokenizer.pad_token_id)\n",
    "  decoded_labels = tokenizer.batch_decode(labels, skip_special_tokens=True, clean_up_tokenization_spaces=False)\n",
    "  decoded_preds = tokenizer.batch_decode(preds, skip_special_tokens=True, clean_up_tokenization_spaces=False)\n",
    "  rouge_metric = evaluate.load(\"rouge\")\n",
    "  rouge_scores = rouge_metric.compute(references=decoded_labels, predictions=decoded_preds, use_stemmer=True, rouge_types=['rouge1', 'rouge2', 'rougeL'])\n",
    "  return {k: round(v, 4) for k, v in rouge_scores.items()}"
   ]
  },
  {
   "cell_type": "code",
   "execution_count": 10,
   "metadata": {},
   "outputs": [],
   "source": [
    "model = AutoModelForSeq2SeqLM.from_pretrained(model_name, load_in_8bit=True, device_map='auto')"
   ]
  },
  {
   "cell_type": "code",
   "execution_count": null,
   "metadata": {},
   "outputs": [],
   "source": [
    "# Config lora for ViT5 Base Model\n",
    "lora_config = LoraConfig(\n",
    "  r=8, \n",
    "  lora_alpha=16,\n",
    "  target_modules=[\"q\", \"k\", \"v\", \"o\", \"wi\", \"wo\", \"lm_head\"],\n",
    "  lora_dropout=0.05,\n",
    "  bias=\"none\",\n",
    "  task_type=TaskType.SEQ_2_SEQ_LM\n",
    ")\n",
    "model = prepare_model_for_int8_training(model)\n",
    "model = get_peft_model(model, lora_config)\n",
    "model.print_trainable_parameters()"
   ]
  },
  {
   "cell_type": "code",
   "execution_count": 12,
   "metadata": {
    "ExecuteTime": {
     "end_time": "2024-02-04T10:39:43.023531600Z",
     "start_time": "2024-02-04T10:39:43.006130900Z"
    }
   },
   "outputs": [],
   "source": [
    "data_collator = DataCollatorForSeq2Seq(tokenizer=tokenizer, model=model, return_tensors=\"pt\")"
   ]
  },
  {
   "cell_type": "code",
   "execution_count": 13,
   "metadata": {
    "ExecuteTime": {
     "end_time": "2024-02-04T10:41:03.374728300Z",
     "start_time": "2024-02-04T10:41:03.343520200Z"
    }
   },
   "outputs": [],
   "source": [
    "training_args = Seq2SeqTrainingArguments(\n",
    "    output_dir=f\"{model_name.replace('/', '_').replace('-', '_')}_model_summarization\",\n",
    "    learning_rate=1e-5,\n",
    "    warmup_ratio=0.05,\n",
    "    weight_decay=0.01,\n",
    "    # auto_find_batch_size=True,\n",
    "    per_device_train_batch_size=12,\n",
    "    per_device_eval_batch_size=4,\n",
    "    num_train_epochs=3,\n",
    "    predict_with_generate=True,\n",
    "    group_by_length=True,\n",
    "    push_to_hub=False,\n",
    "    save_total_limit=3,\n",
    "    report_to='wandb',\n",
    "    run_name=f'{model_name}',\n",
    "    save_strategy='epoch',\n",
    "    evaluation_strategy='no'\n",
    ")"
   ]
  },
  {
   "cell_type": "code",
   "execution_count": 14,
   "metadata": {
    "ExecuteTime": {
     "end_time": "2024-02-04T10:41:04.950004800Z",
     "start_time": "2024-02-04T10:41:03.375831900Z"
    }
   },
   "outputs": [
    {
     "data": {
      "text/plain": [
       "40"
      ]
     },
     "execution_count": 14,
     "metadata": {},
     "output_type": "execute_result"
    }
   ],
   "source": [
    "trainer = Seq2SeqTrainer(\n",
    "    model=model,\n",
    "    args=training_args,\n",
    "    train_dataset=tokenized_new_data[\"train\"],\n",
    "    eval_dataset=tokenized_new_data[\"validation\"],\n",
    "    tokenizer=tokenizer,\n",
    "    data_collator=data_collator,\n",
    "    compute_metrics=compute_metrics\n",
    ")\n",
    "torch.cuda.empty_cache()\n",
    "gc.collect()"
   ]
  },
  {
   "cell_type": "code",
   "execution_count": null,
   "metadata": {},
   "outputs": [],
   "source": [
    "trainer.train()"
   ]
  },
  {
   "cell_type": "code",
   "execution_count": 16,
   "metadata": {},
   "outputs": [
    {
     "data": {
      "application/vnd.jupyter.widget-view+json": {
       "model_id": "208ff94fb0384e3a820d3641d2864d92",
       "version_major": 2,
       "version_minor": 0
      },
      "text/plain": [
       "Downloading builder script:   0%|          | 0.00/6.27k [00:00<?, ?B/s]"
      ]
     },
     "metadata": {},
     "output_type": "display_data"
    },
    {
     "name": "stdout",
     "output_type": "stream",
     "text": [
      "{'eval_loss': 0.5341997146606445, 'eval_rouge1': 0.3635, 'eval_rouge2': 0.1837, 'eval_rougeL': 0.2778, 'eval_runtime': 1379.3407, 'eval_samples_per_second': 1.595, 'eval_steps_per_second': 0.399, 'epoch': 5.0}\n"
     ]
    },
    {
     "data": {
      "text/plain": [
       "{'eval_loss': 0.5341997146606445,\n",
       " 'eval_rouge1': 0.3635,\n",
       " 'eval_rouge2': 0.1837,\n",
       " 'eval_rougeL': 0.2778,\n",
       " 'eval_runtime': 1379.3407,\n",
       " 'eval_samples_per_second': 1.595,\n",
       " 'eval_steps_per_second': 0.399,\n",
       " 'epoch': 5.0}"
      ]
     },
     "execution_count": 16,
     "metadata": {},
     "output_type": "execute_result"
    }
   ],
   "source": [
    "torch.cuda.empty_cache()\n",
    "gc.collect()\n",
    "trainer.evaluate()"
   ]
  },
  {
   "cell_type": "markdown",
   "metadata": {},
   "source": [
    "# Test Model Summarization"
   ]
  },
  {
   "cell_type": "code",
   "execution_count": 4,
   "metadata": {},
   "outputs": [
    {
     "name": "stdout",
     "output_type": "stream",
     "text": [
      "bin d:\\PythonVenv\\lib\\site-packages\\bitsandbytes\\libbitsandbytes_cuda118.dll\n"
     ]
    }
   ],
   "source": [
    "peft_model_id = './VietAI_vit5_base_model_summarization/checkpoint-21010/'\n",
    "config = PeftConfig.from_pretrained(peft_model_id)\n",
    "model = AutoModelForSeq2SeqLM.from_pretrained(config.base_model_name_or_path, load_in_8bit=True, device_map={\"\":0})\n",
    "tokenizer = AutoTokenizer.from_pretrained(config.base_model_name_or_path)\n",
    "model = PeftModel.from_pretrained(model, peft_model_id, device_map={\"\":0})"
   ]
  },
  {
   "cell_type": "code",
   "execution_count": 5,
   "metadata": {},
   "outputs": [],
   "source": [
    "references = []\n",
    "predictions = []\n",
    "def generate_text(text):\n",
    "  for batch_1, batch_2 in tqdm(zip(torch.utils.data.DataLoader(test_data['context'], batch_size=8, shuffle=False), torch.utils.data.DataLoader(test_data['summarization'], batch_size=8, shuffle=False), strict=True), total=len(full_data_test)):\n",
    "    encodings = tokenizer(batch_1, max_length=2048, truncation=True, padding=True, return_tensors=\"pt\")\n",
    "    outputs = model.generate(\n",
    "      **encodings,\n",
    "      early_stopping=False,\n",
    "      max_new_tokens=1024,\n",
    "      temperature=0.7,\n",
    "      top_p=0.9,\n",
    "      top_k=50,\n",
    "      repetition_penalty=1.2,\n",
    "    )\n",
    "    with tokenizer.as_target_tokenizer():\n",
    "      references.extend(batch_2)\n",
    "      predictions.extend([tokenizer.decode(output, skip_special_tokens=True, clean_up_tokenization_spaces=False) for output in outputs])\n",
    "    torch.cuda.empty_cache()"
   ]
  },
  {
   "cell_type": "code",
   "execution_count": null,
   "metadata": {},
   "outputs": [],
   "source": [
    "test_data[f'generate_vit5'] = test_data['context'].progress_apply(lambda x: generate_text(x))"
   ]
  },
  {
   "cell_type": "code",
   "execution_count": null,
   "metadata": {},
   "outputs": [],
   "source": [
    "test_data[f'generate_vit5'] = predictions"
   ]
  },
  {
   "cell_type": "code",
   "execution_count": null,
   "metadata": {},
   "outputs": [],
   "source": [
    "validation_data[f'generate_vit5'] = validation_data['context'].progress_apply(lambda x: generate_text(x))"
   ]
  },
  {
   "cell_type": "code",
   "execution_count": 7,
   "metadata": {
    "collapsed": false,
    "jupyter": {
     "outputs_hidden": false
    }
   },
   "outputs": [
    {
     "data": {
      "text/html": [
       "<div>\n",
       "<style scoped>\n",
       "    .dataframe tbody tr th:only-of-type {\n",
       "        vertical-align: middle;\n",
       "    }\n",
       "\n",
       "    .dataframe tbody tr th {\n",
       "        vertical-align: top;\n",
       "    }\n",
       "\n",
       "    .dataframe thead th {\n",
       "        text-align: right;\n",
       "    }\n",
       "</style>\n",
       "<table border=\"1\" class=\"dataframe\">\n",
       "  <thead>\n",
       "    <tr style=\"text-align: right;\">\n",
       "      <th></th>\n",
       "      <th>context</th>\n",
       "      <th>summarization</th>\n",
       "      <th>generate_vit5</th>\n",
       "    </tr>\n",
       "  </thead>\n",
       "  <tbody>\n",
       "    <tr>\n",
       "      <th>0</th>\n",
       "      <td>Đa số mọi người tắm mỗi ngày, nhưng thời điểm ...</td>\n",
       "      <td>Tiến sĩ - bác sĩ Jason Singh ở Virginia (Mỹ), ...</td>\n",
       "      <td>Tắm vào buổi tối có nhiều lợi ích hơn. Tắm vào...</td>\n",
       "    </tr>\n",
       "    <tr>\n",
       "      <th>1</th>\n",
       "      <td>Bác sĩ chuyên khoa 1 Hồ Thanh Lịch, Phó khoa H...</td>\n",
       "      <td>Khi đi bơi trong mùa đông cần chú ý lựa chọn t...</td>\n",
       "      <td>Bơi lội là môn thể thao dành cho mọi người ở m...</td>\n",
       "    </tr>\n",
       "    <tr>\n",
       "      <th>2</th>\n",
       "      <td>Bắt đầu ngày mới với tin tức sức khỏe, bạn đọc...</td>\n",
       "      <td>'Một nghiên cứu gần đây của các nhà khoa học M...</td>\n",
       "      <td>Chạy bộ trong mùa đông có nhiều lợi ích. Bơi l...</td>\n",
       "    </tr>\n",
       "    <tr>\n",
       "      <th>3</th>\n",
       "      <td>Theo Bộ Y tế, khu vực Bắc bộ và Bắc Trung bộ x...</td>\n",
       "      <td>Cục Quản lý môi trường y tế (Bộ Y tế) có công ...</td>\n",
       "      <td>Bộ Y tế đề nghị người dân không sử dụng than c...</td>\n",
       "    </tr>\n",
       "    <tr>\n",
       "      <th>4</th>\n",
       "      <td>Năm 2023, thế giới tiếp tục ghi nhận các trườn...</td>\n",
       "      <td>Theo Bộ Y tế, dịch bệnh truyền nhiễm trên thế ...</td>\n",
       "      <td>Bộ Y tế đã tổ chức lễ mít tinh nhân Ngày quốc ...</td>\n",
       "    </tr>\n",
       "    <tr>\n",
       "      <th>...</th>\n",
       "      <td>...</td>\n",
       "      <td>...</td>\n",
       "      <td>...</td>\n",
       "    </tr>\n",
       "    <tr>\n",
       "      <th>6001</th>\n",
       "      <td>NDRC cho biết chương trình cải cách cơ chế địn...</td>\n",
       "      <td>Chính phủ Trung Quốc đã áp dụng cơ chế điều ch...</td>\n",
       "      <td>Chính phủ Trung Quốc đã áp dụng cơ chế điều ch...</td>\n",
       "    </tr>\n",
       "    <tr>\n",
       "      <th>6002</th>\n",
       "      <td>Được xây dựng trên các thảo nguyên khô cằn với...</td>\n",
       "      <td>Ordos, một thành phố khô cằn ở Trung Quốc, đã ...</td>\n",
       "      <td>Cuộc thi sắc đẹp Ordos đã phát triển mạnh mẽ t...</td>\n",
       "    </tr>\n",
       "    <tr>\n",
       "      <th>6003</th>\n",
       "      <td>Tình hình chiến sự thành phố Raqqa tính đến ng...</td>\n",
       "      <td>Tình hình chiến sự thành phố Raqqa tính đến ng...</td>\n",
       "      <td>Lực lượng SDF không tiến lên được và không già...</td>\n",
       "    </tr>\n",
       "    <tr>\n",
       "      <th>6004</th>\n",
       "      <td>Tuy nhiên, cho đến nay diện tích sản xuất lúa ...</td>\n",
       "      <td>Mùa vụ lúa trên đất tôm bắt đầu từ tháng 9 như...</td>\n",
       "      <td>Ông Phạm Văn Toản, xã Phú Thạnh, huyện Cái Nướ...</td>\n",
       "    </tr>\n",
       "    <tr>\n",
       "      <th>6005</th>\n",
       "      <td>Tỉnh Cà Mau phấn đấu nâng tỷ lệ hộ dân ở vùng ...</td>\n",
       "      <td>Tỉnh Cà Mau phấn đấu nâng tỷ lệ hộ dân ở vùng ...</td>\n",
       "      <td>Tỉnh Cà Mau phấn đấu nâng tỷ lệ hộ dân ở vùng ...</td>\n",
       "    </tr>\n",
       "  </tbody>\n",
       "</table>\n",
       "<p>6006 rows × 3 columns</p>\n",
       "</div>"
      ],
      "text/plain": [
       "                                                context  \\\n",
       "0     Đa số mọi người tắm mỗi ngày, nhưng thời điểm ...   \n",
       "1     Bác sĩ chuyên khoa 1 Hồ Thanh Lịch, Phó khoa H...   \n",
       "2     Bắt đầu ngày mới với tin tức sức khỏe, bạn đọc...   \n",
       "3     Theo Bộ Y tế, khu vực Bắc bộ và Bắc Trung bộ x...   \n",
       "4     Năm 2023, thế giới tiếp tục ghi nhận các trườn...   \n",
       "...                                                 ...   \n",
       "6001  NDRC cho biết chương trình cải cách cơ chế địn...   \n",
       "6002  Được xây dựng trên các thảo nguyên khô cằn với...   \n",
       "6003  Tình hình chiến sự thành phố Raqqa tính đến ng...   \n",
       "6004  Tuy nhiên, cho đến nay diện tích sản xuất lúa ...   \n",
       "6005  Tỉnh Cà Mau phấn đấu nâng tỷ lệ hộ dân ở vùng ...   \n",
       "\n",
       "                                          summarization  \\\n",
       "0     Tiến sĩ - bác sĩ Jason Singh ở Virginia (Mỹ), ...   \n",
       "1     Khi đi bơi trong mùa đông cần chú ý lựa chọn t...   \n",
       "2     'Một nghiên cứu gần đây của các nhà khoa học M...   \n",
       "3     Cục Quản lý môi trường y tế (Bộ Y tế) có công ...   \n",
       "4     Theo Bộ Y tế, dịch bệnh truyền nhiễm trên thế ...   \n",
       "...                                                 ...   \n",
       "6001  Chính phủ Trung Quốc đã áp dụng cơ chế điều ch...   \n",
       "6002  Ordos, một thành phố khô cằn ở Trung Quốc, đã ...   \n",
       "6003  Tình hình chiến sự thành phố Raqqa tính đến ng...   \n",
       "6004  Mùa vụ lúa trên đất tôm bắt đầu từ tháng 9 như...   \n",
       "6005  Tỉnh Cà Mau phấn đấu nâng tỷ lệ hộ dân ở vùng ...   \n",
       "\n",
       "                                          generate_vit5  \n",
       "0     Tắm vào buổi tối có nhiều lợi ích hơn. Tắm vào...  \n",
       "1     Bơi lội là môn thể thao dành cho mọi người ở m...  \n",
       "2     Chạy bộ trong mùa đông có nhiều lợi ích. Bơi l...  \n",
       "3     Bộ Y tế đề nghị người dân không sử dụng than c...  \n",
       "4     Bộ Y tế đã tổ chức lễ mít tinh nhân Ngày quốc ...  \n",
       "...                                                 ...  \n",
       "6001  Chính phủ Trung Quốc đã áp dụng cơ chế điều ch...  \n",
       "6002  Cuộc thi sắc đẹp Ordos đã phát triển mạnh mẽ t...  \n",
       "6003  Lực lượng SDF không tiến lên được và không già...  \n",
       "6004  Ông Phạm Văn Toản, xã Phú Thạnh, huyện Cái Nướ...  \n",
       "6005  Tỉnh Cà Mau phấn đấu nâng tỷ lệ hộ dân ở vùng ...  \n",
       "\n",
       "[6006 rows x 3 columns]"
      ]
     },
     "execution_count": 7,
     "metadata": {},
     "output_type": "execute_result"
    }
   ],
   "source": [
    "test_data"
   ]
  },
  {
   "cell_type": "code",
   "execution_count": 21,
   "metadata": {},
   "outputs": [
    {
     "data": {
      "text/html": [
       "<div>\n",
       "<style scoped>\n",
       "    .dataframe tbody tr th:only-of-type {\n",
       "        vertical-align: middle;\n",
       "    }\n",
       "\n",
       "    .dataframe tbody tr th {\n",
       "        vertical-align: top;\n",
       "    }\n",
       "\n",
       "    .dataframe thead th {\n",
       "        text-align: right;\n",
       "    }\n",
       "</style>\n",
       "<table border=\"1\" class=\"dataframe\">\n",
       "  <thead>\n",
       "    <tr style=\"text-align: right;\">\n",
       "      <th></th>\n",
       "      <th>context</th>\n",
       "      <th>summarization</th>\n",
       "      <th>generate_vit5</th>\n",
       "    </tr>\n",
       "  </thead>\n",
       "  <tbody>\n",
       "    <tr>\n",
       "      <th>0</th>\n",
       "      <td>Ngày 20.12, bà Nguyễn Thúy Hà, Giám đốc Sở GD-...</td>\n",
       "      <td>UBND tỉnh Đồng Tháp vừa có quyết định cho các ...</td>\n",
       "      <td>Ngày 20.12, UBND tỉnh Đồng Tháp đã có quyết đị...</td>\n",
       "    </tr>\n",
       "    <tr>\n",
       "      <th>1</th>\n",
       "      <td>Ngày 20.12, Báo Thanh Niên đã nhận được phản á...</td>\n",
       "      <td>Đề kiểm tra học kỳ 1 môn ngữ văn lớp 12 của Tr...</td>\n",
       "      <td>Đề kiểm tra môn ngữ văn học kỳ 1 lớp 12 của Tr...</td>\n",
       "    </tr>\n",
       "    <tr>\n",
       "      <th>2</th>\n",
       "      <td>Theo Bộ GD-ĐT: \"Tình trạng giáo viên nghỉ việc...</td>\n",
       "      <td>Bộ GD-ĐT cho biết, tình trạng nghỉ việc của gi...</td>\n",
       "      <td>Bộ GD-ĐT cho biết, trong 3 năm học, cả nước có...</td>\n",
       "    </tr>\n",
       "    <tr>\n",
       "      <th>3</th>\n",
       "      <td>Sở GD-ĐT TP.HCM vừa có công văn hướng dẫn v...</td>\n",
       "      <td>'Tuyệt đối không chạy theo thành tích để đối...</td>\n",
       "      <td>Sở GD-ĐT TP.HCM vừa có công văn hương dân tô c...</td>\n",
       "    </tr>\n",
       "    <tr>\n",
       "      <th>4</th>\n",
       "      <td>Sau khi có thông tin một nhóm giảng viên \"tố\" ...</td>\n",
       "      <td>Thông tin trên trang web của Trung tâm công nh...</td>\n",
       "      <td>Trường ĐH Văn Hiến đã công bố danh sách các cơ...</td>\n",
       "    </tr>\n",
       "    <tr>\n",
       "      <th>...</th>\n",
       "      <td>...</td>\n",
       "      <td>...</td>\n",
       "      <td>...</td>\n",
       "    </tr>\n",
       "    <tr>\n",
       "      <th>2195</th>\n",
       "      <td>Đây cũng là một trong 3 dự án lớn mà HOSE đang...</td>\n",
       "      <td>Giá vàng miếng SJC ngày 6.5 giảm mạnh so với g...</td>\n",
       "      <td>Giá vàng miếng SJC ngày 6.5 giảm 260.000 - 280...</td>\n",
       "    </tr>\n",
       "    <tr>\n",
       "      <th>2196</th>\n",
       "      <td>Christian Vieri mê bóng chuyền vì... chân dài....</td>\n",
       "      <td>Christian Vieri đã thắng kiện Inter Milan và đ...</td>\n",
       "      <td>Trong khi đó, bạn gái Vieri đã lộ phần nhạy cả...</td>\n",
       "    </tr>\n",
       "    <tr>\n",
       "      <th>2197</th>\n",
       "      <td>Máy bay VJ 356 bị sự cố nằm giữa đường băng.. ...</td>\n",
       "      <td>Máy bay VJ 356 của Vietjet Air bị sự cố kỹ thu...</td>\n",
       "      <td>Phó Thủ tướng Thường trực Chính phủ Trương Hòa...</td>\n",
       "    </tr>\n",
       "    <tr>\n",
       "      <th>2198</th>\n",
       "      <td>Ban tổ chức tặng quà cho các gia đình hộ nghèo...</td>\n",
       "      <td>Ban tổ chức tặng quà cho các gia đình hộ nghèo...</td>\n",
       "      <td>Ban tổ chức tặng quà cho các gia đình hộ nghèo...</td>\n",
       "    </tr>\n",
       "    <tr>\n",
       "      <th>2199</th>\n",
       "      <td>&gt; Mua và lối sống.\\n&gt; Nâng mức giảm trừ gia cả...</td>\n",
       "      <td>Chỉ số giá tiêu dùng (CPI) tháng 11 tăng do tă...</td>\n",
       "      <td>TS Vũ Đình Ánh cho rằng, việc CPI chỉ tăng nhẹ...</td>\n",
       "    </tr>\n",
       "  </tbody>\n",
       "</table>\n",
       "<p>2200 rows × 3 columns</p>\n",
       "</div>"
      ],
      "text/plain": [
       "                                                context  \\\n",
       "0     Ngày 20.12, bà Nguyễn Thúy Hà, Giám đốc Sở GD-...   \n",
       "1     Ngày 20.12, Báo Thanh Niên đã nhận được phản á...   \n",
       "2     Theo Bộ GD-ĐT: \"Tình trạng giáo viên nghỉ việc...   \n",
       "3     Sở GD-ĐT TP.HCM vừa có công văn hướng dẫn v...   \n",
       "4     Sau khi có thông tin một nhóm giảng viên \"tố\" ...   \n",
       "...                                                 ...   \n",
       "2195  Đây cũng là một trong 3 dự án lớn mà HOSE đang...   \n",
       "2196  Christian Vieri mê bóng chuyền vì... chân dài....   \n",
       "2197  Máy bay VJ 356 bị sự cố nằm giữa đường băng.. ...   \n",
       "2198  Ban tổ chức tặng quà cho các gia đình hộ nghèo...   \n",
       "2199  > Mua và lối sống.\\n> Nâng mức giảm trừ gia cả...   \n",
       "\n",
       "                                          summarization  \\\n",
       "0     UBND tỉnh Đồng Tháp vừa có quyết định cho các ...   \n",
       "1     Đề kiểm tra học kỳ 1 môn ngữ văn lớp 12 của Tr...   \n",
       "2     Bộ GD-ĐT cho biết, tình trạng nghỉ việc của gi...   \n",
       "3     'Tuyệt đối không chạy theo thành tích để đối...   \n",
       "4     Thông tin trên trang web của Trung tâm công nh...   \n",
       "...                                                 ...   \n",
       "2195  Giá vàng miếng SJC ngày 6.5 giảm mạnh so với g...   \n",
       "2196  Christian Vieri đã thắng kiện Inter Milan và đ...   \n",
       "2197  Máy bay VJ 356 của Vietjet Air bị sự cố kỹ thu...   \n",
       "2198  Ban tổ chức tặng quà cho các gia đình hộ nghèo...   \n",
       "2199  Chỉ số giá tiêu dùng (CPI) tháng 11 tăng do tă...   \n",
       "\n",
       "                                          generate_vit5  \n",
       "0     Ngày 20.12, UBND tỉnh Đồng Tháp đã có quyết đị...  \n",
       "1     Đề kiểm tra môn ngữ văn học kỳ 1 lớp 12 của Tr...  \n",
       "2     Bộ GD-ĐT cho biết, trong 3 năm học, cả nước có...  \n",
       "3     Sở GD-ĐT TP.HCM vừa có công văn hương dân tô c...  \n",
       "4     Trường ĐH Văn Hiến đã công bố danh sách các cơ...  \n",
       "...                                                 ...  \n",
       "2195  Giá vàng miếng SJC ngày 6.5 giảm 260.000 - 280...  \n",
       "2196  Trong khi đó, bạn gái Vieri đã lộ phần nhạy cả...  \n",
       "2197  Phó Thủ tướng Thường trực Chính phủ Trương Hòa...  \n",
       "2198  Ban tổ chức tặng quà cho các gia đình hộ nghèo...  \n",
       "2199  TS Vũ Đình Ánh cho rằng, việc CPI chỉ tăng nhẹ...  \n",
       "\n",
       "[2200 rows x 3 columns]"
      ]
     },
     "execution_count": 21,
     "metadata": {},
     "output_type": "execute_result"
    }
   ],
   "source": [
    "validation_data"
   ]
  },
  {
   "cell_type": "code",
   "execution_count": 8,
   "metadata": {},
   "outputs": [],
   "source": [
    "test_data.to_csv('test_vit5.csv', index=False)"
   ]
  },
  {
   "cell_type": "code",
   "execution_count": 22,
   "metadata": {},
   "outputs": [],
   "source": [
    "validation_data.to_csv('validation_vit5.csv', index=False)"
   ]
  },
  {
   "cell_type": "code",
   "execution_count": 9,
   "metadata": {
    "ExecuteTime": {
     "end_time": "2024-02-04T17:15:23.383429300Z",
     "start_time": "2024-02-04T17:15:23.349319400Z"
    }
   },
   "outputs": [],
   "source": [
    "test_vit5 = pd.read_csv('test_vit5.csv')"
   ]
  },
  {
   "cell_type": "code",
   "execution_count": 23,
   "metadata": {},
   "outputs": [],
   "source": [
    "validation_vit5 = pd.read_csv('validation_vit5.csv')"
   ]
  },
  {
   "cell_type": "code",
   "execution_count": 10,
   "metadata": {},
   "outputs": [],
   "source": [
    "rouge_metric = evaluate.load(\"rouge\")\n",
    "rouge_scores = rouge_metric.compute(references=test_vit5['summarization'].tolist(), predictions=test_vit5['generate_vit5'].tolist(), use_stemmer=True, rouge_types=['rouge1', 'rouge2', 'rougeL'])"
   ]
  },
  {
   "cell_type": "code",
   "execution_count": 11,
   "metadata": {
    "collapsed": false,
    "jupyter": {
     "outputs_hidden": false
    }
   },
   "outputs": [
    {
     "data": {
      "text/plain": [
       "{'rouge1': 0.5002105003451729,\n",
       " 'rouge2': 0.2497110609500507,\n",
       " 'rougeL': 0.3499058714329288}"
      ]
     },
     "execution_count": 11,
     "metadata": {},
     "output_type": "execute_result"
    }
   ],
   "source": [
    "rouge_scores"
   ]
  },
  {
   "cell_type": "code",
   "execution_count": 24,
   "metadata": {},
   "outputs": [],
   "source": [
    "rouge_scores = rouge_metric.compute(references=validation_vit5['summarization'].tolist(), predictions=validation_vit5['generate_vit5'].tolist(), use_stemmer=True, rouge_types=['rouge1', 'rouge2', 'rougeL'])"
   ]
  },
  {
   "cell_type": "code",
   "execution_count": 25,
   "metadata": {},
   "outputs": [
    {
     "data": {
      "text/plain": [
       "{'rouge1': 0.507964718627,\n",
       " 'rouge2': 0.25660760158616774,\n",
       " 'rougeL': 0.3534985404873009}"
      ]
     },
     "execution_count": 25,
     "metadata": {},
     "output_type": "execute_result"
    }
   ],
   "source": [
    "rouge_scores"
   ]
  },
  {
   "cell_type": "code",
   "execution_count": 26,
   "metadata": {},
   "outputs": [],
   "source": [
    "tmp = pd.concat([test_vit5, validation_vit5], axis=0)\n",
    "tmp.reset_index(drop=True, inplace=True)"
   ]
  },
  {
   "cell_type": "code",
   "execution_count": 27,
   "metadata": {},
   "outputs": [],
   "source": [
    "tmp1 = pd.concat([test_vit5[0:1179], validation_vit5[0:590]], axis=0)\n",
    "tmp1.reset_index(drop=True, inplace=True)"
   ]
  },
  {
   "cell_type": "code",
   "execution_count": 28,
   "metadata": {},
   "outputs": [],
   "source": [
    "# VLSP dataset\n",
    "tmp2 = pd.concat([test_vit5[1179:1427], validation_vit5[590:673]], axis=0)\n",
    "tmp2.reset_index(drop=True, inplace=True)"
   ]
  },
  {
   "cell_type": "code",
   "execution_count": 29,
   "metadata": {},
   "outputs": [],
   "source": [
    "# Wikilingua\n",
    "tmp3= pd.concat([test_vit5[1427:4095], validation_vit5[673:1563]], axis=0)\n",
    "tmp3.reset_index(drop=True, inplace=True)"
   ]
  },
  {
   "cell_type": "code",
   "execution_count": 30,
   "metadata": {},
   "outputs": [],
   "source": [
    "tmp4 = pd.concat([test_vit5[4095:], validation_vit5[1563:]], axis=0)\n",
    "tmp4.reset_index(drop=True, inplace=True)"
   ]
  },
  {
   "cell_type": "code",
   "execution_count": 31,
   "metadata": {},
   "outputs": [],
   "source": [
    "# News dataset\n",
    "tmp5 = pd.concat([tmp1, tmp4], axis=0)\n",
    "tmp5.reset_index(drop=True, inplace=True)"
   ]
  },
  {
   "cell_type": "code",
   "execution_count": 32,
   "metadata": {},
   "outputs": [
    {
     "data": {
      "text/plain": [
       "{'rouge1': 0.529546562338034,\n",
       " 'rouge2': 0.236038002360293,\n",
       " 'rougeL': 0.33495561377999683}"
      ]
     },
     "execution_count": 32,
     "metadata": {},
     "output_type": "execute_result"
    }
   ],
   "source": [
    "rouge_metric.compute(references=tmp2['summarization'].tolist(), predictions=tmp2['generate_vit5'].tolist(), use_stemmer=True, rouge_types=['rouge1', 'rouge2', 'rougeL'])"
   ]
  },
  {
   "cell_type": "code",
   "execution_count": 33,
   "metadata": {},
   "outputs": [
    {
     "data": {
      "text/plain": [
       "{'rouge1': 0.42732540509350075,\n",
       " 'rouge2': 0.17257019316358763,\n",
       " 'rougeL': 0.31157848958949474}"
      ]
     },
     "execution_count": 33,
     "metadata": {},
     "output_type": "execute_result"
    }
   ],
   "source": [
    "rouge_metric.compute(references=tmp3['summarization'].tolist(), predictions=tmp3['generate_vit5'].tolist(), use_stemmer=True, rouge_types=['rouge1', 'rouge2', 'rougeL'])"
   ]
  },
  {
   "cell_type": "code",
   "execution_count": 34,
   "metadata": {},
   "outputs": [
    {
     "data": {
      "text/plain": [
       "{'rouge1': 0.5622472163327099,\n",
       " 'rouge2': 0.3176311986104343,\n",
       " 'rougeL': 0.3845936640926482}"
      ]
     },
     "execution_count": 34,
     "metadata": {},
     "output_type": "execute_result"
    }
   ],
   "source": [
    "rouge_metric.compute(references=tmp5['summarization'].tolist(), predictions=tmp5['generate_vit5'].tolist(), use_stemmer=True, rouge_types=['rouge1', 'rouge2', 'rougeL'])"
   ]
  },
  {
   "cell_type": "code",
   "execution_count": 36,
   "metadata": {},
   "outputs": [
    {
     "data": {
      "text/plain": [
       "{'rouge1': 0.5024035786152301,\n",
       " 'rouge2': 0.2515743013355738,\n",
       " 'rougeL': 0.3509099126177594}"
      ]
     },
     "execution_count": 36,
     "metadata": {},
     "output_type": "execute_result"
    }
   ],
   "source": [
    "rouge_metric.compute(references=tmp['summarization'].tolist(), predictions=tmp['generate_vit5'].tolist(), use_stemmer=True, rouge_types=['rouge1', 'rouge2', 'rougeL'])"
   ]
  },
  {
   "cell_type": "code",
   "execution_count": null,
   "metadata": {},
   "outputs": [],
   "source": []
  }
 ],
 "metadata": {
  "kernelspec": {
   "display_name": "Python 3 (ipykernel)",
   "language": "python",
   "name": "python3"
  },
  "language_info": {
   "codemirror_mode": {
    "name": "ipython",
    "version": 3
   },
   "file_extension": ".py",
   "mimetype": "text/x-python",
   "name": "python",
   "nbconvert_exporter": "python",
   "pygments_lexer": "ipython3",
   "version": "3.10.11"
  }
 },
 "nbformat": 4,
 "nbformat_minor": 4
}
