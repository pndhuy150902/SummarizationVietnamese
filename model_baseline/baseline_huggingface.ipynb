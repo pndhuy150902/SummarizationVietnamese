{
 "cells": [
  {
   "cell_type": "code",
   "execution_count": 31,
   "metadata": {
    "ExecuteTime": {
     "end_time": "2024-02-06T11:02:58.953735100Z",
     "start_time": "2024-02-06T11:02:58.942583600Z"
    }
   },
   "outputs": [],
   "source": [
    "import os\n",
    "import gc\n",
    "import warnings\n",
    "warnings.filterwarnings(\"ignore\")"
   ]
  },
  {
   "cell_type": "code",
   "execution_count": 32,
   "metadata": {
    "ExecuteTime": {
     "end_time": "2024-02-06T11:02:59.388697Z",
     "start_time": "2024-02-06T11:02:59.194825300Z"
    }
   },
   "outputs": [
    {
     "data": {
      "text/plain": "<torch._C.Generator at 0x21a6a0edcf0>"
     },
     "execution_count": 32,
     "metadata": {},
     "output_type": "execute_result"
    }
   ],
   "source": [
    "import evaluate\n",
    "import torch\n",
    "import pandas as pd\n",
    "import numpy as np\n",
    "from nltk.translate.bleu_score import sentence_bleu\n",
    "from datasets import Dataset, DatasetDict\n",
    "from transformers import logging, AutoModelForSeq2SeqLM, AutoTokenizer, DataCollatorForSeq2Seq, Seq2SeqTrainingArguments, Seq2SeqTrainer\n",
    "logging.set_verbosity_error()\n",
    "device = torch.device(\"cuda\" if torch.cuda.is_available() else \"cpu\")\n",
    "gc.collect()\n",
    "torch.manual_seed(42)"
   ]
  },
  {
   "cell_type": "code",
   "execution_count": 33,
   "metadata": {
    "ExecuteTime": {
     "end_time": "2024-02-06T11:03:05.920834Z",
     "start_time": "2024-02-06T11:03:03.208345300Z"
    }
   },
   "outputs": [],
   "source": [
    "train_data = pd.read_csv('../dataset/full_train_data_summarization.csv')\n",
    "validation_data = pd.read_csv('../dataset/full_validation_data_summarization.csv')\n",
    "test_data = pd.read_csv('../dataset/full_test_data_summarization.csv')"
   ]
  },
  {
   "cell_type": "code",
   "execution_count": 5,
   "metadata": {
    "ExecuteTime": {
     "end_time": "2024-02-04T10:39:10.205827100Z",
     "start_time": "2024-02-04T10:39:10.190806300Z"
    }
   },
   "outputs": [],
   "source": [
    "validation_data = validation_data[:100]\n",
    "test_data = test_data[:600]"
   ]
  },
  {
   "cell_type": "code",
   "execution_count": 5,
   "metadata": {
    "ExecuteTime": {
     "end_time": "2024-02-04T10:39:10.229473200Z",
     "start_time": "2024-02-04T10:39:10.207968Z"
    }
   },
   "outputs": [],
   "source": [
    "model_name = 'google/mt5-base'"
   ]
  },
  {
   "cell_type": "code",
   "execution_count": 6,
   "metadata": {
    "ExecuteTime": {
     "end_time": "2024-02-04T10:39:22.690308600Z",
     "start_time": "2024-02-04T10:39:13.663736Z"
    }
   },
   "outputs": [],
   "source": [
    "tokenizer = AutoTokenizer.from_pretrained(model_name)"
   ]
  },
  {
   "cell_type": "code",
   "execution_count": 7,
   "metadata": {
    "ExecuteTime": {
     "end_time": "2024-02-04T10:39:24.900285200Z",
     "start_time": "2024-02-04T10:39:24.878907600Z"
    }
   },
   "outputs": [],
   "source": [
    "prefix = \"Hãy tóm tắt ngắn gọn nội dung sau bằng tiếng Việt: \"\n",
    "def preprocess_function(examples):\n",
    "  inputs = [prefix + doc for doc in examples[\"context\"]]\n",
    "  model_inputs = tokenizer(inputs, max_length=4096, truncation=True)\n",
    "  labels = tokenizer(text_target=examples[\"summarization\"], max_length=1024, truncation=True)\n",
    "  model_inputs[\"labels\"] = labels[\"input_ids\"]\n",
    "  return model_inputs"
   ]
  },
  {
   "cell_type": "code",
   "execution_count": 8,
   "metadata": {
    "ExecuteTime": {
     "end_time": "2024-02-04T10:39:27.084875200Z",
     "start_time": "2024-02-04T10:39:26.837162800Z"
    }
   },
   "outputs": [],
   "source": [
    "new_data = DatasetDict({\n",
    "    \"train\": Dataset.from_dict(train_data),\n",
    "    \"validation\": Dataset.from_dict(validation_data)\n",
    "})"
   ]
  },
  {
   "cell_type": "code",
   "execution_count": 9,
   "metadata": {
    "ExecuteTime": {
     "end_time": "2024-02-04T10:39:36.910769Z",
     "start_time": "2024-02-04T10:39:29.635534900Z"
    }
   },
   "outputs": [
    {
     "data": {
      "application/vnd.jupyter.widget-view+json": {
       "model_id": "a6cfc45b99094d7b8bfb77eeaa362408",
       "version_major": 2,
       "version_minor": 0
      },
      "text/plain": [
       "Map:   0%|          | 0/6000 [00:00<?, ? examples/s]"
      ]
     },
     "metadata": {},
     "output_type": "display_data"
    },
    {
     "data": {
      "application/vnd.jupyter.widget-view+json": {
       "model_id": "3a2b4dcbe0084c69b637acbb36621131",
       "version_major": 2,
       "version_minor": 0
      },
      "text/plain": [
       "Map:   0%|          | 0/300 [00:00<?, ? examples/s]"
      ]
     },
     "metadata": {},
     "output_type": "display_data"
    }
   ],
   "source": [
    "tokenized_new_data = new_data.map(preprocess_function, batched=True)"
   ]
  },
  {
   "cell_type": "code",
   "execution_count": 10,
   "metadata": {
    "ExecuteTime": {
     "end_time": "2024-02-04T10:39:43.023531600Z",
     "start_time": "2024-02-04T10:39:43.006130900Z"
    }
   },
   "outputs": [],
   "source": [
    "data_collator = DataCollatorForSeq2Seq(tokenizer=tokenizer, model=model_name)"
   ]
  },
  {
   "cell_type": "code",
   "execution_count": 11,
   "metadata": {
    "ExecuteTime": {
     "end_time": "2024-02-04T10:40:18.257759300Z",
     "start_time": "2024-02-04T10:40:18.235574300Z"
    }
   },
   "outputs": [],
   "source": [
    "def compute_metrics(eval_pred):\n",
    "  predictions, labels = eval_pred\n",
    "  decoded_preds = tokenizer.batch_decode(predictions, skip_special_tokens=True)\n",
    "  labels = np.where(labels != -100, labels, tokenizer.pad_token_id)\n",
    "  decoded_labels = tokenizer.batch_decode(labels, skip_special_tokens=True)\n",
    "  bleu_scores_ngram_1 = []\n",
    "  bleu_scores_ngram_2 = []\n",
    "  bleu_scores_ngram_3 = []\n",
    "  bleu_scores_ngram_4 = []\n",
    "  bleu_scores_ngram_avg = []\n",
    "  for reference_text, generated_text in zip(decoded_labels, decoded_preds):\n",
    "    bleu_score_ngram_1 = sentence_bleu([reference_text], generated_text, weights=(1, 0, 0, 0))\n",
    "    bleu_score_ngram_2 = sentence_bleu([reference_text], generated_text, weights=(0, 1, 0, 0))\n",
    "    bleu_score_ngram_3 = sentence_bleu([reference_text], generated_text, weights=(0, 0, 1, 0))\n",
    "    bleu_score_ngram_4 = sentence_bleu([reference_text], generated_text, weights=(0, 0, 0, 1))\n",
    "    bleu_score_ngram_avg = sentence_bleu([reference_text], generated_text, weights=(0.25, 0.25, 0.25, 0.25))\n",
    "    bleu_scores_ngram_1.append(bleu_score_ngram_1)\n",
    "    bleu_scores_ngram_2.append(bleu_score_ngram_2)\n",
    "    bleu_scores_ngram_3.append(bleu_score_ngram_3)\n",
    "    bleu_scores_ngram_4.append(bleu_score_ngram_4)\n",
    "    bleu_scores_ngram_avg.append(bleu_score_ngram_avg)\n",
    "\n",
    "  return {\n",
    "    'bleu@1': sum(bleu_scores_ngram_1) / len(bleu_scores_ngram_1),\n",
    "    'bleu@2': sum(bleu_scores_ngram_2) / len(bleu_scores_ngram_2),\n",
    "    'bleu@3': sum(bleu_scores_ngram_3) / len(bleu_scores_ngram_3),\n",
    "    'bleu@4': sum(bleu_scores_ngram_4) / len(bleu_scores_ngram_4),\n",
    "    'bleu@avg': sum(bleu_scores_ngram_avg) / len(bleu_scores_ngram_avg)\n",
    "  }"
   ]
  },
  {
   "cell_type": "code",
   "execution_count": 12,
   "metadata": {
    "ExecuteTime": {
     "end_time": "2024-02-04T10:41:03.341757Z",
     "start_time": "2024-02-04T10:40:19.761684700Z"
    }
   },
   "outputs": [],
   "source": [
    "model = AutoModelForSeq2SeqLM.from_pretrained(model_name)"
   ]
  },
  {
   "cell_type": "code",
   "execution_count": 13,
   "metadata": {
    "ExecuteTime": {
     "end_time": "2024-02-04T10:41:03.374728300Z",
     "start_time": "2024-02-04T10:41:03.343520200Z"
    }
   },
   "outputs": [],
   "source": [
    "training_args = Seq2SeqTrainingArguments(\n",
    "    output_dir=f\"{model_name.replace('/', '_').replace('-', '_')}_model_summarization\",\n",
    "    learning_rate=1e-5,\n",
    "    auto_find_batch_size=True,\n",
    "    # per_device_train_batch_size=4,\n",
    "    # per_device_eval_batch_size=4,\n",
    "    num_train_epochs=6,\n",
    "    predict_with_generate=True,\n",
    "    bf16=True,\n",
    "    push_to_hub=False,\n",
    "    save_total_limit=1,\n",
    "    save_strategy='epoch',\n",
    "    evaluation_strategy='epoch'\n",
    ")"
   ]
  },
  {
   "cell_type": "code",
   "execution_count": 14,
   "metadata": {
    "ExecuteTime": {
     "end_time": "2024-02-04T10:41:04.950004800Z",
     "start_time": "2024-02-04T10:41:03.375831900Z"
    }
   },
   "outputs": [
    {
     "name": "stderr",
     "output_type": "stream",
     "text": [
      "Detected kernel version 5.4.0, which is below the recommended minimum of 5.5.0; this can cause the process to hang. It is recommended to upgrade the kernel to the minimum version or higher.\n"
     ]
    },
    {
     "data": {
      "text/plain": [
       "0"
      ]
     },
     "execution_count": 14,
     "metadata": {},
     "output_type": "execute_result"
    }
   ],
   "source": [
    "trainer = Seq2SeqTrainer(\n",
    "    model=model,\n",
    "    args=training_args,\n",
    "    train_dataset=tokenized_new_data[\"train\"],\n",
    "    eval_dataset=tokenized_new_data[\"validation\"],\n",
    "    tokenizer=tokenizer,\n",
    "    data_collator=data_collator,\n",
    "    compute_metrics=compute_metrics\n",
    ")\n",
    "torch.cuda.empty_cache()\n",
    "gc.collect()"
   ]
  },
  {
   "cell_type": "code",
   "execution_count": 15,
   "metadata": {
    "collapsed": false
   },
   "outputs": [
    {
     "name": "stderr",
     "output_type": "stream",
     "text": [
      "Failed to detect the name of this notebook, you can set it manually with the WANDB_NOTEBOOK_NAME environment variable to enable code saving.\n",
      "\u001B[34m\u001B[1mwandb\u001B[0m: Currently logged in as: \u001B[33mphamduchuy159\u001B[0m. Use \u001B[1m`wandb login --relogin`\u001B[0m to force relogin\n"
     ]
    },
    {
     "data": {
      "text/html": [
       "Tracking run with wandb version 0.16.2"
      ],
      "text/plain": [
       "<IPython.core.display.HTML object>"
      ]
     },
     "metadata": {},
     "output_type": "display_data"
    },
    {
     "data": {
      "text/html": [
       "Run data is saved locally in <code>/root/SummarizationVietnamese/model_baseline/wandb/run-20240204_152417-m9qiyqmk</code>"
      ],
      "text/plain": [
       "<IPython.core.display.HTML object>"
      ]
     },
     "metadata": {},
     "output_type": "display_data"
    },
    {
     "data": {
      "text/html": [
       "Syncing run <strong><a href='https://wandb.ai/phamduchuy159/huggingface/runs/m9qiyqmk' target=\"_blank\">fanciful-moon-4</a></strong> to <a href='https://wandb.ai/phamduchuy159/huggingface' target=\"_blank\">Weights & Biases</a> (<a href='https://wandb.me/run' target=\"_blank\">docs</a>)<br/>"
      ],
      "text/plain": [
       "<IPython.core.display.HTML object>"
      ]
     },
     "metadata": {},
     "output_type": "display_data"
    },
    {
     "data": {
      "text/html": [
       " View project at <a href='https://wandb.ai/phamduchuy159/huggingface' target=\"_blank\">https://wandb.ai/phamduchuy159/huggingface</a>"
      ],
      "text/plain": [
       "<IPython.core.display.HTML object>"
      ]
     },
     "metadata": {},
     "output_type": "display_data"
    },
    {
     "data": {
      "text/html": [
       " View run at <a href='https://wandb.ai/phamduchuy159/huggingface/runs/m9qiyqmk' target=\"_blank\">https://wandb.ai/phamduchuy159/huggingface/runs/m9qiyqmk</a>"
      ],
      "text/plain": [
       "<IPython.core.display.HTML object>"
      ]
     },
     "metadata": {},
     "output_type": "display_data"
    },
    {
     "name": "stdout",
     "output_type": "stream",
     "text": [
      "{'loss': 5.9844, 'learning_rate': 9.722222222222223e-06, 'epoch': 0.17}\n",
      "{'loss': 1.2591, 'learning_rate': 9.444444444444445e-06, 'epoch': 0.33}\n",
      "{'loss': 1.0245, 'learning_rate': 9.166666666666666e-06, 'epoch': 0.5}\n",
      "{'loss': 0.9405, 'learning_rate': 8.888888888888888e-06, 'epoch': 0.67}\n",
      "{'loss': 0.8937, 'learning_rate': 8.611111111111112e-06, 'epoch': 0.83}\n",
      "{'loss': 0.8691, 'learning_rate': 8.333333333333334e-06, 'epoch': 1.0}\n",
      "{'eval_loss': 0.5431631207466125, 'eval_bleu@1': 0.001063575725282157, 'eval_bleu@2': 0.000799717288024215, 'eval_bleu@3': 0.0005921217204276331, 'eval_bleu@4': 0.00048222215393011164, 'eval_bleu@avg': 0.000683548001854629, 'eval_runtime': 47.9858, 'eval_samples_per_second': 6.252, 'eval_steps_per_second': 0.792, 'epoch': 1.0}\n",
      "{'loss': 0.8209, 'learning_rate': 8.055555555555557e-06, 'epoch': 1.17}\n",
      "{'loss': 0.842, 'learning_rate': 7.77777777777778e-06, 'epoch': 1.33}\n",
      "{'loss': 0.8065, 'learning_rate': 7.500000000000001e-06, 'epoch': 1.5}\n",
      "{'loss': 0.8043, 'learning_rate': 7.222222222222223e-06, 'epoch': 1.67}\n",
      "{'loss': 0.7371, 'learning_rate': 6.944444444444445e-06, 'epoch': 1.83}\n",
      "{'loss': 0.7795, 'learning_rate': 6.666666666666667e-06, 'epoch': 2.0}\n",
      "{'eval_loss': 0.513422429561615, 'eval_bleu@1': 0.00029290229437433415, 'eval_bleu@2': 0.0002542330011557303, 'eval_bleu@3': 0.00020982682709874223, 'eval_bleu@4': 0.00018406064575871082, 'eval_bleu@avg': 0.000227207580200693, 'eval_runtime': 46.2509, 'eval_samples_per_second': 6.486, 'eval_steps_per_second': 0.822, 'epoch': 2.0}\n",
      "{'loss': 0.7301, 'learning_rate': 6.3888888888888885e-06, 'epoch': 2.17}\n",
      "{'loss': 0.7394, 'learning_rate': 6.111111111111112e-06, 'epoch': 2.33}\n",
      "{'loss': 0.7447, 'learning_rate': 5.833333333333334e-06, 'epoch': 2.5}\n",
      "{'loss': 0.7349, 'learning_rate': 5.555555555555557e-06, 'epoch': 2.67}\n",
      "{'loss': 0.7308, 'learning_rate': 5.2777777777777785e-06, 'epoch': 2.83}\n",
      "{'loss': 0.748, 'learning_rate': 5e-06, 'epoch': 3.0}\n",
      "{'eval_loss': 0.49853384494781494, 'eval_bleu@1': 0.00026221135011408544, 'eval_bleu@2': 0.00022791945444667895, 'eval_bleu@3': 0.00018941986509753074, 'eval_bleu@4': 0.0001660027835856302, 'eval_bleu@avg': 0.00020447374249508822, 'eval_runtime': 46.3915, 'eval_samples_per_second': 6.467, 'eval_steps_per_second': 0.819, 'epoch': 3.0}\n",
      "{'loss': 0.6991, 'learning_rate': 4.722222222222222e-06, 'epoch': 3.17}\n",
      "{'loss': 0.7244, 'learning_rate': 4.444444444444444e-06, 'epoch': 3.33}\n",
      "{'loss': 0.6924, 'learning_rate': 4.166666666666667e-06, 'epoch': 3.5}\n",
      "{'loss': 0.7182, 'learning_rate': 3.88888888888889e-06, 'epoch': 3.67}\n",
      "{'loss': 0.7045, 'learning_rate': 3.6111111111111115e-06, 'epoch': 3.83}\n",
      "{'loss': 0.6809, 'learning_rate': 3.3333333333333333e-06, 'epoch': 4.0}\n",
      "{'eval_loss': 0.4917983114719391, 'eval_bleu@1': 0.00023230249735171676, 'eval_bleu@2': 0.00019991635782366855, 'eval_bleu@3': 0.00016332643513244097, 'eval_bleu@4': 0.0001428817309375259, 'eval_bleu@avg': 0.00017740467682443925, 'eval_runtime': 46.3763, 'eval_samples_per_second': 6.469, 'eval_steps_per_second': 0.819, 'epoch': 4.0}\n",
      "{'loss': 0.6981, 'learning_rate': 3.055555555555556e-06, 'epoch': 4.17}\n",
      "{'loss': 0.6747, 'learning_rate': 2.7777777777777783e-06, 'epoch': 4.33}\n",
      "{'loss': 0.6931, 'learning_rate': 2.5e-06, 'epoch': 4.5}\n",
      "{'loss': 0.6841, 'learning_rate': 2.222222222222222e-06, 'epoch': 4.67}\n",
      "{'loss': 0.6853, 'learning_rate': 1.944444444444445e-06, 'epoch': 4.83}\n",
      "{'loss': 0.6732, 'learning_rate': 1.6666666666666667e-06, 'epoch': 5.0}\n",
      "{'eval_loss': 0.485899418592453, 'eval_bleu@1': 0.0002818141425090195, 'eval_bleu@2': 0.00023710591223670478, 'eval_bleu@3': 0.00018992021417753654, 'eval_bleu@4': 0.0001636230527003787, 'eval_bleu@avg': 0.00020780566178315026, 'eval_runtime': 47.1078, 'eval_samples_per_second': 6.368, 'eval_steps_per_second': 0.807, 'epoch': 5.0}\n",
      "{'loss': 0.6601, 'learning_rate': 1.3888888888888892e-06, 'epoch': 5.17}\n",
      "{'loss': 0.6962, 'learning_rate': 1.111111111111111e-06, 'epoch': 5.33}\n",
      "{'loss': 0.6576, 'learning_rate': 8.333333333333333e-07, 'epoch': 5.5}\n",
      "{'loss': 0.6645, 'learning_rate': 5.555555555555555e-07, 'epoch': 5.67}\n",
      "{'loss': 0.6833, 'learning_rate': 2.7777777777777776e-07, 'epoch': 5.83}\n",
      "{'loss': 0.6855, 'learning_rate': 0.0, 'epoch': 6.0}\n",
      "{'eval_loss': 0.48346424102783203, 'eval_bleu@1': 0.0002661179713317102, 'eval_bleu@2': 0.00022653250877689135, 'eval_bleu@3': 0.00018337696325170042, 'eval_bleu@4': 0.00015894650199149054, 'eval_bleu@avg': 0.00019940407061865058, 'eval_runtime': 46.2558, 'eval_samples_per_second': 6.486, 'eval_steps_per_second': 0.822, 'epoch': 6.0}\n",
      "{'train_runtime': 3962.344, 'train_samples_per_second': 9.086, 'train_steps_per_second': 4.543, 'train_loss': 0.9045706532796224, 'epoch': 6.0}\n"
     ]
    },
    {
     "data": {
      "text/plain": [
       "TrainOutput(global_step=18000, training_loss=0.9045706532796224, metrics={'train_runtime': 3962.344, 'train_samples_per_second': 9.086, 'train_steps_per_second': 4.543, 'train_loss': 0.9045706532796224, 'epoch': 6.0})"
      ]
     },
     "execution_count": 15,
     "metadata": {},
     "output_type": "execute_result"
    }
   ],
   "source": [
    "trainer.train()"
   ]
  },
  {
   "cell_type": "markdown",
   "metadata": {},
   "source": [
    "# Test Model Summarization"
   ]
  },
  {
   "cell_type": "code",
   "execution_count": 6,
   "metadata": {},
   "outputs": [],
   "source": [
    "model_checkpoint = '../model_baseline/google_mt5_base_model_summarization/checkpoint-18000'\n",
    "tokenizer = AutoTokenizer.from_pretrained(model_checkpoint)  \n",
    "model = AutoModelForSeq2SeqLM.from_pretrained(model_checkpoint)\n",
    "model.to(device)\n",
    "if torch.cuda.device_count() >= 2:\n",
    "  model = torch.nn.DataParallel(model)\n",
    "\n",
    "def generate_text(text):\n",
    "  prefix = 'Hãy tóm tắt ngắn gọn nội dung sau bằng tiếng Việt: '\n",
    "  encoding = tokenizer(prefix+text, return_tensors=\"pt\")\n",
    "  input_ids, attention_masks = encoding[\"input_ids\"].to(device), encoding[\"attention_mask\"].to(device)\n",
    "  outputs = model.generate(\n",
    "    input_ids=input_ids, attention_mask=attention_masks,\n",
    "    early_stopping=False,\n",
    "    max_new_tokens=1024,\n",
    "    temperature=0.7,\n",
    "    top_p=0.8,\n",
    "    repetition_penalty=1.2\n",
    "  )\n",
    "  for output in outputs:\n",
    "    line = tokenizer.decode(output, skip_special_tokens=True, clean_up_tokenization_spaces=True)\n",
    "    torch.cuda.empty_cache()\n",
    "    return line"
   ]
  },
  {
   "cell_type": "code",
   "execution_count": 7,
   "metadata": {},
   "outputs": [],
   "source": [
    "from tqdm import tqdm\n",
    "tqdm.pandas()"
   ]
  },
  {
   "cell_type": "code",
   "execution_count": 10,
   "metadata": {},
   "outputs": [
    {
     "name": "stderr",
     "output_type": "stream",
     "text": [
      "100%|██████████| 200/200 [10:00<00:00,  3.00s/it]\n"
     ]
    }
   ],
   "source": [
    "test_data[f'generate_google_mt5'] = test_data['context'].progress_apply(lambda x: generate_text(x))"
   ]
  },
  {
   "cell_type": "code",
   "execution_count": 11,
   "metadata": {
    "collapsed": false
   },
   "outputs": [
    {
     "data": {
      "text/html": [
       "<div>\n",
       "<style scoped>\n",
       "    .dataframe tbody tr th:only-of-type {\n",
       "        vertical-align: middle;\n",
       "    }\n",
       "\n",
       "    .dataframe tbody tr th {\n",
       "        vertical-align: top;\n",
       "    }\n",
       "\n",
       "    .dataframe thead th {\n",
       "        text-align: right;\n",
       "    }\n",
       "</style>\n",
       "<table border=\"1\" class=\"dataframe\">\n",
       "  <thead>\n",
       "    <tr style=\"text-align: right;\">\n",
       "      <th></th>\n",
       "      <th>context</th>\n",
       "      <th>summarization</th>\n",
       "      <th>generate_google_mt5</th>\n",
       "    </tr>\n",
       "  </thead>\n",
       "  <tbody>\n",
       "    <tr>\n",
       "      <th>0</th>\n",
       "      <td>Để khắc phục các nhược điểm nói trên, Viện Kho...</td>\n",
       "      <td>Viện Khoa học Fraunhofer Đức đang phát triển l...</td>\n",
       "      <td>Viện Khoa học Fraunhofer, Đức đang phát triển ...</td>\n",
       "    </tr>\n",
       "    <tr>\n",
       "      <th>1</th>\n",
       "      <td>Không nên dùng sản phẩm sát trùng mạnh như Bac...</td>\n",
       "      <td>Tránh dùng sản phẩm sát trùng mạnh. Tránh tran...</td>\n",
       "      <td>Tóm tắt ngắn gọn nội dung sau để vệ sinh khuyê...</td>\n",
       "    </tr>\n",
       "    <tr>\n",
       "      <th>2</th>\n",
       "      <td>Kỳ 1: Đổi giờ học, giờ làm - đúng nhưng chưa đ...</td>\n",
       "      <td>Gần đây, Bộ Giao thông vận tải (GTVT) đã đưa r...</td>\n",
       "      <td>Bộ Giao thông vận tải (GTVT) đã đưa ra giải ph...</td>\n",
       "    </tr>\n",
       "    <tr>\n",
       "      <th>3</th>\n",
       "      <td>Theo San Francisco Globe, chú hắc mã này có ng...</td>\n",
       "      <td>Frederik là một con ngựa Frieasian đến từ Hà L...</td>\n",
       "      <td>Ông Frederik là một người hâm mộ của vị vua tr...</td>\n",
       "    </tr>\n",
       "    <tr>\n",
       "      <th>4</th>\n",
       "      <td>Tham dự buổi làm việc có Thứ trưởng Bộ GTVT Ng...</td>\n",
       "      <td>Tham dự buổi làm việc có Thứ trưởng Bộ GTVT Ng...</td>\n",
       "      <td>Thứ trưởng Bộ GTVT Nguyễn Nhật và đại diện các...</td>\n",
       "    </tr>\n",
       "    <tr>\n",
       "      <th>...</th>\n",
       "      <td>...</td>\n",
       "      <td>...</td>\n",
       "      <td>...</td>\n",
       "    </tr>\n",
       "    <tr>\n",
       "      <th>195</th>\n",
       "      <td>Trong giai đoạn 2015 2020, Đảng bộ VCCI đã đề ...</td>\n",
       "      <td>Đại hội Đảng bộ VCCI lần thứ VI nhiệm kỳ 2010-...</td>\n",
       "      <td>Tại giai đoạn 2015-2020, Đảng bộ VCCI đã đề ra...</td>\n",
       "    </tr>\n",
       "    <tr>\n",
       "      <th>196</th>\n",
       "      <td>Bản hit của nhạc sĩ Phạm Toàn Thắng đã có tổng...</td>\n",
       "      <td>Nhạc sĩ Phạm Toàn Thắng đã có bản hit có tổng ...</td>\n",
       "      <td>Tổng hơn 13 triệu lượt view trong năm qua, tro...</td>\n",
       "    </tr>\n",
       "    <tr>\n",
       "      <th>197</th>\n",
       "      <td>Các lực lượng chức năng đang tiến hành điều tr...</td>\n",
       "      <td>Lực lượng chức năng đang tiến hành điều tra vụ...</td>\n",
       "      <td>Tại hầm đường bộ Phước Tượng, xe ô-tô tải Air ...</td>\n",
       "    </tr>\n",
       "    <tr>\n",
       "      <th>198</th>\n",
       "      <td>Kodaikanal, Tamil Nadu.\\nMột điểm đến thân thi...</td>\n",
       "      <td>Tại Nam Ấn Độ, có nhiều điểm đến thân thiện gi...</td>\n",
       "      <td>Tìm về Kodaikanal ở Tamil Nadu. Nằm giữa những...</td>\n",
       "    </tr>\n",
       "    <tr>\n",
       "      <th>199</th>\n",
       "      <td>Cây đa Đá Bạc.\\nSáng 23/4, UBND huyện Phú Lộc ...</td>\n",
       "      <td>UBND huyện Phú Lộc đã tổ chức Lễ đón nhận bằng...</td>\n",
       "      <td>Cây đa Đá Bạc, tại thị trấn Phú Lộc là cây di ...</td>\n",
       "    </tr>\n",
       "  </tbody>\n",
       "</table>\n",
       "<p>200 rows × 3 columns</p>\n",
       "</div>"
      ],
      "text/plain": [
       "                                               context  \\\n",
       "0    Để khắc phục các nhược điểm nói trên, Viện Kho...   \n",
       "1    Không nên dùng sản phẩm sát trùng mạnh như Bac...   \n",
       "2    Kỳ 1: Đổi giờ học, giờ làm - đúng nhưng chưa đ...   \n",
       "3    Theo San Francisco Globe, chú hắc mã này có ng...   \n",
       "4    Tham dự buổi làm việc có Thứ trưởng Bộ GTVT Ng...   \n",
       "..                                                 ...   \n",
       "195  Trong giai đoạn 2015 2020, Đảng bộ VCCI đã đề ...   \n",
       "196  Bản hit của nhạc sĩ Phạm Toàn Thắng đã có tổng...   \n",
       "197  Các lực lượng chức năng đang tiến hành điều tr...   \n",
       "198  Kodaikanal, Tamil Nadu.\\nMột điểm đến thân thi...   \n",
       "199  Cây đa Đá Bạc.\\nSáng 23/4, UBND huyện Phú Lộc ...   \n",
       "\n",
       "                                         summarization  \\\n",
       "0    Viện Khoa học Fraunhofer Đức đang phát triển l...   \n",
       "1    Tránh dùng sản phẩm sát trùng mạnh. Tránh tran...   \n",
       "2    Gần đây, Bộ Giao thông vận tải (GTVT) đã đưa r...   \n",
       "3    Frederik là một con ngựa Frieasian đến từ Hà L...   \n",
       "4    Tham dự buổi làm việc có Thứ trưởng Bộ GTVT Ng...   \n",
       "..                                                 ...   \n",
       "195  Đại hội Đảng bộ VCCI lần thứ VI nhiệm kỳ 2010-...   \n",
       "196  Nhạc sĩ Phạm Toàn Thắng đã có bản hit có tổng ...   \n",
       "197  Lực lượng chức năng đang tiến hành điều tra vụ...   \n",
       "198  Tại Nam Ấn Độ, có nhiều điểm đến thân thiện gi...   \n",
       "199  UBND huyện Phú Lộc đã tổ chức Lễ đón nhận bằng...   \n",
       "\n",
       "                                   generate_google_mt5  \n",
       "0    Viện Khoa học Fraunhofer, Đức đang phát triển ...  \n",
       "1    Tóm tắt ngắn gọn nội dung sau để vệ sinh khuyê...  \n",
       "2    Bộ Giao thông vận tải (GTVT) đã đưa ra giải ph...  \n",
       "3    Ông Frederik là một người hâm mộ của vị vua tr...  \n",
       "4    Thứ trưởng Bộ GTVT Nguyễn Nhật và đại diện các...  \n",
       "..                                                 ...  \n",
       "195  Tại giai đoạn 2015-2020, Đảng bộ VCCI đã đề ra...  \n",
       "196  Tổng hơn 13 triệu lượt view trong năm qua, tro...  \n",
       "197  Tại hầm đường bộ Phước Tượng, xe ô-tô tải Air ...  \n",
       "198  Tìm về Kodaikanal ở Tamil Nadu. Nằm giữa những...  \n",
       "199  Cây đa Đá Bạc, tại thị trấn Phú Lộc là cây di ...  \n",
       "\n",
       "[200 rows x 3 columns]"
      ]
     },
     "execution_count": 11,
     "metadata": {},
     "output_type": "execute_result"
    }
   ],
   "source": [
    "test_data"
   ]
  },
  {
   "cell_type": "code",
   "execution_count": 13,
   "metadata": {},
   "outputs": [],
   "source": [
    "test_data.to_csv('test_google_mt5.csv', index=False)"
   ]
  },
  {
   "cell_type": "code",
   "execution_count": 6,
   "metadata": {
    "ExecuteTime": {
     "end_time": "2024-02-04T17:15:23.383429300Z",
     "start_time": "2024-02-04T17:15:23.349319400Z"
    }
   },
   "outputs": [],
   "source": [
    "test_google_mt5 = pd.read_csv('test_google_mt5.csv')"
   ]
  },
  {
   "cell_type": "code",
   "execution_count": 10,
   "metadata": {
    "ExecuteTime": {
     "end_time": "2024-02-04T17:24:23.695494200Z",
     "start_time": "2024-02-04T17:24:22.259772600Z"
    }
   },
   "outputs": [],
   "source": [
    "bleu_scores_ngram_1 = []\n",
    "bleu_scores_ngram_2 = []\n",
    "bleu_scores_ngram_3 = []\n",
    "bleu_scores_ngram_4 = []\n",
    "bleu_scores_ngram_avg = []\n",
    "for i, row in test_google_mt5.iterrows():\n",
    "    bleu_score_ngram_1 = sentence_bleu([row['context']], row['generate_google_mt5'], weights=(1, 0, 0, 0))\n",
    "    bleu_score_ngram_2 = sentence_bleu([row['context']], row['generate_google_mt5'], weights=(0, 1, 0, 0))\n",
    "    bleu_score_ngram_3 = sentence_bleu([row['context']], row['generate_google_mt5'], weights=(0, 0, 1, 0))\n",
    "    bleu_score_ngram_4 = sentence_bleu([row['context']], row['generate_google_mt5'], weights=(0, 0, 0, 1))\n",
    "    bleu_score_ngram_avg = sentence_bleu([row['context']], row['generate_google_mt5'], weights=(0.25, 0.25, 0.25, 0.25))\n",
    "    bleu_scores_ngram_1.append(bleu_score_ngram_1)\n",
    "    bleu_scores_ngram_2.append(bleu_score_ngram_2)\n",
    "    bleu_scores_ngram_3.append(bleu_score_ngram_3)\n",
    "    bleu_scores_ngram_4.append(bleu_score_ngram_4)\n",
    "    bleu_scores_ngram_avg.append(bleu_score_ngram_avg)\n",
    "bleu_scores = {\n",
    "    'bleu@1': sum(bleu_scores_ngram_1) / len(bleu_scores_ngram_1),\n",
    "    'bleu@2': sum(bleu_scores_ngram_2) / len(bleu_scores_ngram_2),\n",
    "    'bleu@3': sum(bleu_scores_ngram_3) / len(bleu_scores_ngram_3),\n",
    "    'bleu@4': sum(bleu_scores_ngram_4) / len(bleu_scores_ngram_4),\n",
    "    'bleu@avg': sum(bleu_scores_ngram_avg) / len(bleu_scores_ngram_avg)\n",
    "}"
   ]
  },
  {
   "cell_type": "code",
   "outputs": [
    {
     "data": {
      "text/plain": "{'bleu@1': 0.13707125511825846,\n 'bleu@2': 0.12818132221785022,\n 'bleu@3': 0.12191466015495132,\n 'bleu@4': 0.11792501227617203,\n 'bleu@avg': 0.12554119295645577}"
     },
     "execution_count": 11,
     "metadata": {},
     "output_type": "execute_result"
    }
   ],
   "source": [
    "bleu_scores"
   ],
   "metadata": {
    "collapsed": false,
    "ExecuteTime": {
     "end_time": "2024-02-04T17:24:28.085047400Z",
     "start_time": "2024-02-04T17:24:28.062980700Z"
    }
   },
   "execution_count": 11
  },
  {
   "cell_type": "code",
   "outputs": [],
   "source": [],
   "metadata": {
    "collapsed": false
   }
  }
 ],
 "metadata": {
  "kernelspec": {
   "display_name": "Python 3 (ipykernel)",
   "language": "python",
   "name": "python3"
  },
  "language_info": {
   "codemirror_mode": {
    "name": "ipython",
    "version": 3
   },
   "file_extension": ".py",
   "mimetype": "text/x-python",
   "name": "python",
   "nbconvert_exporter": "python",
   "pygments_lexer": "ipython3",
   "version": "3.10.13"
  }
 },
 "nbformat": 4,
 "nbformat_minor": 4
}
