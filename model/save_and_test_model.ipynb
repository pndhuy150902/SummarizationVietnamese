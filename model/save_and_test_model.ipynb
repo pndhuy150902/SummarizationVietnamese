{
 "cells": [
  {
   "cell_type": "code",
   "execution_count": null,
   "id": "initial_id",
   "metadata": {
    "collapsed": true
   },
   "outputs": [],
   "source": [
    "import warnings\n",
    "warnings.filterwarnings('ignore')"
   ]
  },
  {
   "cell_type": "code",
   "outputs": [],
   "source": [
    "import torch\n",
    "import pandas as pd\n",
    "from nltk.translate.bleu_score import sentence_bleu\n",
    "from vllm import LLM, SamplingParams\n",
    "from peft import PeftModel\n",
    "from transformers import BitsAndBytesConfig, AutoTokenizer, AutoModelForCausalLM"
   ],
   "metadata": {
    "collapsed": false
   },
   "id": "f78f3a083be5dbc6"
  },
  {
   "cell_type": "code",
   "outputs": [],
   "source": [
    "full_data_test = pd.read_csv('../dataset/full_test_data_summarization.csv')"
   ],
   "metadata": {
    "collapsed": false
   },
   "id": "155ba1f90b364090"
  },
  {
   "cell_type": "code",
   "outputs": [],
   "source": [
    "model_name = 'mistralai/Mistral-7B-Instruct-v0.2'"
   ],
   "metadata": {
    "collapsed": false
   },
   "id": "ca585b714df90375"
  },
  {
   "cell_type": "code",
   "outputs": [],
   "source": [
    "bnb_config = BitsAndBytesConfig(\n",
    "    load_in_4bit=True,\n",
    "    load_4bit_use_double_quant=True,\n",
    "    bnb_4bit_quant_type='nf4',\n",
    "    bnb_4bit_compute_dtype=torch.bfloat16\n",
    ")"
   ],
   "metadata": {
    "collapsed": false
   },
   "id": "9568bcbb73eeac94"
  },
  {
   "cell_type": "code",
   "outputs": [],
   "source": [
    "base_model = AutoModelForCausalLM.from_pretrained(\n",
    "    model_name,\n",
    "    device_map='auto',\n",
    "    trust_remote_code=True,\n",
    "    attn_implementation=\"flash_attention_2\",\n",
    "    quantization_config=bnb_config\n",
    ")"
   ],
   "metadata": {
    "collapsed": false
   },
   "id": "2ebb8a9348f9b37d"
  },
  {
   "cell_type": "code",
   "outputs": [],
   "source": [
    "checkpoint = './model_checkpoint/'\n",
    "model_dir = './peft_model'"
   ],
   "metadata": {
    "collapsed": false
   },
   "id": "8ffe0d7e5ede1fea"
  },
  {
   "cell_type": "code",
   "outputs": [],
   "source": [
    "tokenizer = AutoTokenizer.from_pretrained(model_dir)"
   ],
   "metadata": {
    "collapsed": false
   },
   "id": "6a83c9ba642a383f"
  },
  {
   "cell_type": "code",
   "outputs": [],
   "source": [
    "model = PeftModel(base_model, checkpoint)\n",
    "model = model.merge_and_unload()"
   ],
   "metadata": {
    "collapsed": false
   },
   "id": "98a609bbc6736086"
  },
  {
   "cell_type": "code",
   "outputs": [],
   "source": [
    "model.save_pretrained(model_dir, safe_serialization=True)\n",
    "tokenizer.save_pretrained(model_dir)"
   ],
   "metadata": {
    "collapsed": false
   },
   "id": "eb93d96f7f91dc63"
  },
  {
   "cell_type": "code",
   "outputs": [],
   "source": [
    "llm = LLM(model='./peft_model')"
   ],
   "metadata": {
    "collapsed": false
   },
   "id": "67574ae0257302b6"
  },
  {
   "cell_type": "code",
   "outputs": [],
   "source": [
    "llm.get_tokenizer()"
   ],
   "metadata": {
    "collapsed": false
   },
   "id": "67ae099cc85f0416"
  },
  {
   "cell_type": "code",
   "outputs": [],
   "source": [
    "sample_params = SamplingParams(max_tokens=1024,\n",
    "                               temperature=0.7,\n",
    "                               top_p=0.9,\n",
    "                               repetition_penalty=1.2,\n",
    "                               skip_special_tokens=True)"
   ],
   "metadata": {
    "collapsed": false
   },
   "id": "88385dbb7eaf1ba5"
  },
  {
   "cell_type": "code",
   "outputs": [],
   "source": [
    "template = \"\"\"<s>[INST] Bạn là một trợ lý AI. Bạn sẽ được giao một nhiệm vụ. Hãy tóm lược ngắn gọn nội dung sau bằng tiếng Việt:\n",
    "{} [/INST] \"\"\""
   ],
   "metadata": {
    "collapsed": false
   },
   "id": "18cb47c629d36a38"
  },
  {
   "cell_type": "code",
   "outputs": [],
   "source": [
    "def create_prompt(sample):\n",
    "    prompt = template.format(sample)\n",
    "    return prompt"
   ],
   "metadata": {
    "collapsed": false
   },
   "id": "8de35050220e391d"
  },
  {
   "cell_type": "code",
   "outputs": [],
   "source": [
    "full_prompt = []\n",
    "for context in full_data_test['context'].tolist():\n",
    "    prompt = create_prompt(context)\n",
    "    full_prompt.append(prompt)"
   ],
   "metadata": {
    "collapsed": false
   },
   "id": "fc4d0ec343425908"
  },
  {
   "cell_type": "code",
   "outputs": [],
   "source": [
    "outputs = llm.generate(full_prompt, sample_params)"
   ],
   "metadata": {
    "collapsed": false
   },
   "id": "c6ab77e2783ff343"
  },
  {
   "cell_type": "code",
   "outputs": [],
   "source": [
    "summarized_predictions = []\n",
    "for summarization in outputs:\n",
    "    summarized_predictions.append(summarization.outputs[0].text)"
   ],
   "metadata": {
    "collapsed": false
   },
   "id": "e70a3ddeaa0c9429"
  },
  {
   "cell_type": "code",
   "outputs": [],
   "source": [
    "full_data_test['summarization_predictions'] = summarized_predictions"
   ],
   "metadata": {
    "collapsed": false
   },
   "id": "84b4d2f6247b04a9"
  },
  {
   "cell_type": "code",
   "outputs": [],
   "source": [
    "bleu_scores_ngram_1 = []\n",
    "bleu_scores_ngram_2 = []\n",
    "bleu_scores_ngram_3 = []\n",
    "bleu_scores_ngram_4 = []\n",
    "bleu_scores_ngram_avg = []\n",
    "for i, row in full_data_test.iterrows():\n",
    "    bleu_score_ngram_1 = sentence_bleu([row['context']], hypothesis=row['summarization_predictions'], weights=(1, 0, 0, 0))\n",
    "    bleu_score_ngram_2 = sentence_bleu([row['context']], hypothesis=row['summarization_predictions'], weights=(0, 1, 0, 0))\n",
    "    bleu_score_ngram_3 = sentence_bleu([row['context']], hypothesis=row['summarization_predictions'], weights=(0, 0, 1, 0))\n",
    "    bleu_score_ngram_4 = sentence_bleu([row['context']], hypothesis=row['summarization_predictions'], weights=(0, 0, 0, 1))\n",
    "    bleu_score_ngram_avg = sentence_bleu([row['context']], hypothesis=row['summarization_predictions'], weights=(0.25, 0.25, 0.25, 0.25))\n",
    "    bleu_scores_ngram_1.append(bleu_score_ngram_1)\n",
    "    bleu_scores_ngram_2.append(bleu_score_ngram_2)\n",
    "    bleu_scores_ngram_3.append(bleu_score_ngram_3)\n",
    "    bleu_scores_ngram_4.append(bleu_score_ngram_4)\n",
    "    bleu_scores_ngram_avg.append(bleu_score_ngram_avg)\n",
    "bleu_scores = {\n",
    "    'bleu@1': sum(bleu_scores_ngram_1) / len(bleu_scores_ngram_1),\n",
    "    'bleu@2': sum(bleu_scores_ngram_2) / len(bleu_scores_ngram_2),\n",
    "    'bleu@3': sum(bleu_scores_ngram_3) / len(bleu_scores_ngram_3),\n",
    "    'bleu@4': sum(bleu_scores_ngram_4) / len(bleu_scores_ngram_4),\n",
    "    'bleu@avg': sum(bleu_scores_ngram_avg) / len(bleu_scores_ngram_avg)\n",
    "}"
   ],
   "metadata": {
    "collapsed": false
   },
   "id": "6d368bad4cee1f1f"
  },
  {
   "cell_type": "code",
   "outputs": [],
   "source": [
    "bleu_scores"
   ],
   "metadata": {
    "collapsed": false
   },
   "id": "aaa17e8bd83fd88b"
  },
  {
   "cell_type": "code",
   "outputs": [],
   "source": [],
   "metadata": {
    "collapsed": false
   },
   "id": "bd2930552f0f3689"
  }
 ],
 "metadata": {
  "kernelspec": {
   "display_name": "Python 3",
   "language": "python",
   "name": "python3"
  },
  "language_info": {
   "codemirror_mode": {
    "name": "ipython",
    "version": 2
   },
   "file_extension": ".py",
   "mimetype": "text/x-python",
   "name": "python",
   "nbconvert_exporter": "python",
   "pygments_lexer": "ipython2",
   "version": "2.7.6"
  }
 },
 "nbformat": 4,
 "nbformat_minor": 5
}
