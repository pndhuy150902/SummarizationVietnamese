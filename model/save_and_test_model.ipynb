{
 "cells": [
  {
   "cell_type": "code",
   "execution_count": 1,
   "id": "c6a5a0b3",
   "metadata": {},
   "outputs": [],
   "source": [
    "import warnings\n",
    "import gc\n",
    "warnings.filterwarnings('ignore')"
   ]
  },
  {
   "cell_type": "code",
   "execution_count": 2,
   "id": "d791c100",
   "metadata": {},
   "outputs": [
    {
     "data": {
      "text/plain": [
       "<torch._C.Generator at 0x1a069a62730>"
      ]
     },
     "execution_count": 2,
     "metadata": {},
     "output_type": "execute_result"
    }
   ],
   "source": [
    "import torch\n",
    "import evaluate\n",
    "import pandas as pd\n",
    "from tqdm import tqdm\n",
    "from peft import PeftModel, PeftConfig\n",
    "from transformers import BitsAndBytesConfig, AutoTokenizer, AutoModelForCausalLM, DataCollatorForLanguageModeling\n",
    "device = torch.device(\"cuda\" if torch.cuda.is_available() else \"cpu\")\n",
    "tqdm.pandas()\n",
    "gc.collect()\n",
    "torch.manual_seed(42)"
   ]
  },
  {
   "cell_type": "code",
   "execution_count": 3,
   "id": "155ba1f90b364090",
   "metadata": {
    "collapsed": false,
    "jupyter": {
     "outputs_hidden": false
    }
   },
   "outputs": [],
   "source": [
    "full_data_test = pd.read_csv('../dataset/full_test_data_summarization.csv')"
   ]
  },
  {
   "cell_type": "code",
   "execution_count": 3,
   "id": "8ffe0d7e5ede1fea",
   "metadata": {
    "collapsed": false,
    "jupyter": {
     "outputs_hidden": false
    }
   },
   "outputs": [],
   "source": [
    "checkpoint = './model_checkpoint/checkpoint-1576'"
   ]
  },
  {
   "cell_type": "code",
   "execution_count": null,
   "id": "4b213263",
   "metadata": {},
   "outputs": [],
   "source": [
    "config = PeftConfig.from_pretrained(checkpoint)\n",
    "base_model = AutoModelForCausalLM.from_pretrained(\n",
    "    config.base_model_name_or_path,\n",
    "    device_map={\"\":0},\n",
    "    torch_dtype=torch.bfloat16,\n",
    "    attn_implementation=\"flash_attention_2\",\n",
    "    quantization_config=BitsAndBytesConfig(    \n",
    "        load_in_4bit=True,\n",
    "        load_4bit_use_double_quant=True,\n",
    "        bnb_4bit_quant_type='nf4',\n",
    "        bnb_4bit_compute_dtype=torch.bfloat16\n",
    "    )\n",
    ")\n",
    "tokenizer = AutoTokenizer.from_pretrained(checkpoint)"
   ]
  },
  {
   "cell_type": "code",
   "execution_count": null,
   "id": "17876766",
   "metadata": {},
   "outputs": [],
   "source": [
    "model = PeftModel.from_pretrained(base_model, checkpoint, device_map={\"\":0})\n",
    "model.eval()"
   ]
  },
  {
   "cell_type": "code",
   "execution_count": 8,
   "id": "8de35050220e391d",
   "metadata": {
    "collapsed": false,
    "jupyter": {
     "outputs_hidden": false
    }
   },
   "outputs": [],
   "source": [
    "def create_prompt(sample):\n",
    "    template = \"\"\"<s>[INST] Bạn là một trợ lý AI. Bạn sẽ được giao một nhiệm vụ. Hãy tóm lược ngắn gọn nội dung sau bằng tiếng Việt:\n",
    "{} [/INST] \"\"\"\n",
    "    prompt = template.format(sample)\n",
    "    return prompt"
   ]
  },
  {
   "cell_type": "code",
   "execution_count": 8,
   "id": "8869c197",
   "metadata": {},
   "outputs": [],
   "source": [
    "references = []\n",
    "predictions = []\n",
    "def generate_text():\n",
    "  for batch_1, batch_2 in tqdm(zip(torch.utils.data.DataLoader(full_data_test['context'], batch_size=16, shuffle=False), torch.utils.data.DataLoader(full_data_test['summarization'], batch_size=16, shuffle=False), strict=True), total=int(round(len(full_data_test)/16, 0))):\n",
    "    prompts = [create_prompt(context) for context in batch_1]\n",
    "    inputs = tokenizer(prompts, max_length=4096, truncation=True, padding=False, add_special_tokens=True, return_tensors=\"pt\").to(device)\n",
    "    outputs = model.generate(\n",
    "      **inputs,\n",
    "      early_stopping=False,\n",
    "      max_new_tokens=1024,\n",
    "      temperature=0.7,\n",
    "      top_p=0.9,\n",
    "      top_k=50,\n",
    "      repetition_penalty=1.2,\n",
    "      penalty_alpha=0.6,\n",
    "      pad_token_id=tokenizer.eos_token_id\n",
    "    )\n",
    "    references.extend(batch_2)\n",
    "    predictions.extend([tokenizer.decode(output, skip_special_tokens=True, clean_up_tokenization_spaces=False).split('[/INST]')[1].strip() for output in outputs])\n",
    "    torch.cuda.empty_cache()"
   ]
  },
  {
   "cell_type": "code",
   "execution_count": null,
   "id": "d9ce43e6",
   "metadata": {},
   "outputs": [],
   "source": [
    "generate_text()"
   ]
  },
  {
   "cell_type": "code",
   "execution_count": null,
   "id": "9d124329",
   "metadata": {},
   "outputs": [],
   "source": [
    "full_data_test['summarization_predictions'] = full_data_test['context'].progress_apply(lambda x: generate_text(x))"
   ]
  },
  {
   "cell_type": "code",
   "execution_count": null,
   "id": "803b40ec",
   "metadata": {},
   "outputs": [],
   "source": [
    "full_data_test['summarization_predictions'] = predictions"
   ]
  },
  {
   "cell_type": "code",
   "execution_count": null,
   "id": "fd11efeb",
   "metadata": {},
   "outputs": [],
   "source": [
    "rouge_metric = evaluate.load(\"rouge\")\n",
    "rouge_scores = rouge_metric.compute(references=full_data_test['summarization'].tolist(), predictions=full_data_test['summarization_predictions'].tolist(), use_stemmer=True, rouge_types=['rouge1', 'rouge2', 'rougeL'])"
   ]
  },
  {
   "cell_type": "code",
   "execution_count": 11,
   "id": "aaa17e8bd83fd88b",
   "metadata": {
    "collapsed": false,
    "jupyter": {
     "outputs_hidden": false
    }
   },
   "outputs": [
    {
     "data": {
      "text/plain": [
       "{'rouge1': 0.6073709993163005,\n",
       " 'rouge2': 0.3535813077835422,\n",
       " 'rougeL': 0.4224855441941776}"
      ]
     },
     "execution_count": 11,
     "metadata": {},
     "output_type": "execute_result"
    }
   ],
   "source": [
    "rouge_scores"
   ]
  },
  {
   "cell_type": "code",
   "execution_count": 12,
   "id": "bd2930552f0f3689",
   "metadata": {
    "collapsed": false,
    "jupyter": {
     "outputs_hidden": false
    }
   },
   "outputs": [],
   "source": [
    "full_data_test.to_csv('test_mistral_lora.csv', index=False)"
   ]
  },
  {
   "cell_type": "code",
   "execution_count": null,
   "id": "b3f74f30",
   "metadata": {},
   "outputs": [],
   "source": []
  },
  {
   "cell_type": "code",
   "execution_count": 3,
   "id": "cca4b2c6",
   "metadata": {},
   "outputs": [],
   "source": [
    "tmp_test_1 = pd.read_csv('./test_mistral_lora.csv')\n",
    "tmp_test_2 = pd.read_csv('./validation_mistral_lora.csv')"
   ]
  },
  {
   "cell_type": "code",
   "execution_count": 13,
   "id": "11aa6cfb",
   "metadata": {},
   "outputs": [],
   "source": [
    "tmp = pd.concat([tmp_test_1, tmp_test_2], axis=0)\n",
    "tmp.reset_index(drop=True, inplace=True)"
   ]
  },
  {
   "cell_type": "code",
   "execution_count": 4,
   "id": "5805b0e5",
   "metadata": {},
   "outputs": [],
   "source": [
    "tmp1 = pd.concat([tmp_test_1[0:1179], tmp_test_2[0:590]], axis=0)\n",
    "tmp1.reset_index(drop=True, inplace=True)"
   ]
  },
  {
   "cell_type": "code",
   "execution_count": 5,
   "id": "8c2198ef",
   "metadata": {},
   "outputs": [],
   "source": [
    "# VLSP dataset\n",
    "tmp2 = pd.concat([tmp_test_1[1179:1427], tmp_test_2[590:673]], axis=0)\n",
    "tmp2.reset_index(drop=True, inplace=True)"
   ]
  },
  {
   "cell_type": "code",
   "execution_count": 6,
   "id": "87cab9cd",
   "metadata": {},
   "outputs": [],
   "source": [
    "# Wikilingua\n",
    "tmp3= pd.concat([tmp_test_1[1427:4095], tmp_test_2[673:1563]], axis=0)\n",
    "tmp3.reset_index(drop=True, inplace=True)"
   ]
  },
  {
   "cell_type": "code",
   "execution_count": 7,
   "id": "4ee337b0",
   "metadata": {},
   "outputs": [],
   "source": [
    "tmp4 = pd.concat([tmp_test_1[4095:], tmp_test_2[1563:]], axis=0)\n",
    "tmp4.reset_index(drop=True, inplace=True)"
   ]
  },
  {
   "cell_type": "code",
   "execution_count": 8,
   "id": "9361816d",
   "metadata": {},
   "outputs": [],
   "source": [
    "# News dataset\n",
    "tmp5 = pd.concat([tmp1, tmp4], axis=0)\n",
    "tmp5.reset_index(drop=True, inplace=True)"
   ]
  },
  {
   "cell_type": "code",
   "execution_count": 9,
   "id": "8c3ca00f-6840-4224-8c31-a423b94ec9e2",
   "metadata": {},
   "outputs": [],
   "source": [
    "rouge_metric = evaluate.load(\"rouge\")"
   ]
  },
  {
   "cell_type": "code",
   "execution_count": 10,
   "id": "97bdd79b",
   "metadata": {},
   "outputs": [
    {
     "data": {
      "text/plain": [
       "{'rouge1': 0.5556730900726031,\n",
       " 'rouge2': 0.2461537974616837,\n",
       " 'rougeL': 0.33873741074411445}"
      ]
     },
     "execution_count": 10,
     "metadata": {},
     "output_type": "execute_result"
    }
   ],
   "source": [
    "rouge_metric.compute(references=tmp2['summarization'].tolist(), predictions=tmp2['summarization_predictions'].tolist(), use_stemmer=True, rouge_types=['rouge1', 'rouge2', 'rougeL'])"
   ]
  },
  {
   "cell_type": "code",
   "execution_count": 11,
   "id": "f6967231",
   "metadata": {},
   "outputs": [
    {
     "data": {
      "text/plain": [
       "{'rouge1': 0.5576205043038466,\n",
       " 'rouge2': 0.28404084704064686,\n",
       " 'rougeL': 0.3909748540769764}"
      ]
     },
     "execution_count": 11,
     "metadata": {},
     "output_type": "execute_result"
    }
   ],
   "source": [
    "rouge_metric.compute(references=tmp3['summarization'].tolist(), predictions=tmp3['summarization_predictions'].tolist(), use_stemmer=True, rouge_types=['rouge1', 'rouge2', 'rougeL'])"
   ]
  },
  {
   "cell_type": "code",
   "execution_count": 12,
   "id": "f17ab47d",
   "metadata": {},
   "outputs": [
    {
     "data": {
      "text/plain": [
       "{'rouge1': 0.654149485144364,\n",
       " 'rouge2': 0.4175033018006436,\n",
       " 'rougeL': 0.4538408078557469}"
      ]
     },
     "execution_count": 12,
     "metadata": {},
     "output_type": "execute_result"
    }
   ],
   "source": [
    "rouge_metric.compute(references=tmp5['summarization'].tolist(), predictions=tmp5['summarization_predictions'].tolist(), use_stemmer=True, rouge_types=['rouge1', 'rouge2', 'rougeL'])"
   ]
  },
  {
   "cell_type": "code",
   "execution_count": 15,
   "id": "4ccf630e",
   "metadata": {},
   "outputs": [
    {
     "data": {
      "text/plain": [
       "{'rouge1': 0.608391039289374,\n",
       " 'rouge2': 0.3527924081481474,\n",
       " 'rougeL': 0.42188942920528405}"
      ]
     },
     "execution_count": 15,
     "metadata": {},
     "output_type": "execute_result"
    }
   ],
   "source": [
    "rouge_metric.compute(references=tmp['summarization'].tolist(), predictions=tmp['summarization_predictions'].tolist(), use_stemmer=True, rouge_types=['rouge1', 'rouge2', 'rougeL'])"
   ]
  },
  {
   "cell_type": "code",
   "execution_count": null,
   "id": "023e5426",
   "metadata": {},
   "outputs": [],
   "source": []
  }
 ],
 "metadata": {
  "kernelspec": {
   "display_name": "Python 3 (ipykernel)",
   "language": "python",
   "name": "python3"
  },
  "language_info": {
   "codemirror_mode": {
    "name": "ipython",
    "version": 3
   },
   "file_extension": ".py",
   "mimetype": "text/x-python",
   "name": "python",
   "nbconvert_exporter": "python",
   "pygments_lexer": "ipython3",
   "version": "3.10.11"
  }
 },
 "nbformat": 4,
 "nbformat_minor": 5
}
