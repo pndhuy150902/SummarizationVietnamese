{
 "cells": [
  {
   "cell_type": "code",
   "execution_count": null,
   "id": "initial_id",
   "metadata": {
    "collapsed": true
   },
   "outputs": [],
   "source": [
    "import warnings\n",
    "warnings.filterwarnings('ignore')"
   ]
  },
  {
   "cell_type": "code",
   "execution_count": null,
   "id": "f78f3a083be5dbc6",
   "metadata": {
    "collapsed": false
   },
   "outputs": [],
   "source": [
    "import torch\n",
    "import evaluate\n",
    "import pandas as pd\n",
    "from nltk.translate.bleu_score import sentence_bleu\n",
    "from vllm import LLM, SamplingParams\n",
    "from peft import PeftModel\n",
    "from transformers import BitsAndBytesConfig, AutoTokenizer, AutoModelForCausalLM"
   ]
  },
  {
   "cell_type": "code",
   "execution_count": null,
   "id": "155ba1f90b364090",
   "metadata": {
    "collapsed": false
   },
   "outputs": [],
   "source": [
    "full_data_test = pd.read_csv('../dataset/full_test_data_summarization.csv')"
   ]
  },
  {
   "cell_type": "code",
   "execution_count": null,
   "id": "ca585b714df90375",
   "metadata": {
    "collapsed": false
   },
   "outputs": [],
   "source": [
    "model_name = 'mistralai/Mistral-7B-Instruct-v0.2'"
   ]
  },
  {
   "cell_type": "code",
   "execution_count": null,
   "id": "9568bcbb73eeac94",
   "metadata": {
    "collapsed": false
   },
   "outputs": [],
   "source": [
    "bnb_config = BitsAndBytesConfig(\n",
    "    load_in_4bit=True,\n",
    "    load_4bit_use_double_quant=True,\n",
    "    bnb_4bit_quant_type='nf4',\n",
    "    bnb_4bit_compute_dtype=torch.bfloat16\n",
    ")"
   ]
  },
  {
   "cell_type": "code",
   "execution_count": null,
   "id": "2ebb8a9348f9b37d",
   "metadata": {
    "collapsed": false
   },
   "outputs": [],
   "source": [
    "base_model = AutoModelForCausalLM.from_pretrained(\n",
    "    model_name,\n",
    "    device_map='auto',\n",
    "    trust_remote_code=True,\n",
    "    attn_implementation=\"flash_attention_2\",\n",
    "    quantization_config=bnb_config\n",
    ")"
   ]
  },
  {
   "cell_type": "code",
   "execution_count": null,
   "id": "8ffe0d7e5ede1fea",
   "metadata": {
    "collapsed": false
   },
   "outputs": [],
   "source": [
    "checkpoint = './model_checkpoint/'\n",
    "model_dir = './peft_model'"
   ]
  },
  {
   "cell_type": "code",
   "execution_count": null,
   "id": "6a83c9ba642a383f",
   "metadata": {
    "collapsed": false
   },
   "outputs": [],
   "source": [
    "tokenizer = AutoTokenizer.from_pretrained(model_dir)"
   ]
  },
  {
   "cell_type": "code",
   "execution_count": null,
   "id": "98a609bbc6736086",
   "metadata": {
    "collapsed": false
   },
   "outputs": [],
   "source": [
    "model = PeftModel(base_model, checkpoint)\n",
    "model = model.merge_and_unload()"
   ]
  },
  {
   "cell_type": "code",
   "execution_count": null,
   "id": "eb93d96f7f91dc63",
   "metadata": {
    "collapsed": false
   },
   "outputs": [],
   "source": [
    "model.save_pretrained(model_dir, safe_serialization=True)\n",
    "tokenizer.save_pretrained(model_dir)"
   ]
  },
  {
   "cell_type": "code",
   "execution_count": null,
   "id": "67574ae0257302b6",
   "metadata": {
    "collapsed": false
   },
   "outputs": [],
   "source": [
    "llm = LLM(model='./peft_model')"
   ]
  },
  {
   "cell_type": "code",
   "execution_count": null,
   "id": "67ae099cc85f0416",
   "metadata": {
    "collapsed": false
   },
   "outputs": [],
   "source": [
    "llm.get_tokenizer()"
   ]
  },
  {
   "cell_type": "code",
   "execution_count": null,
   "id": "88385dbb7eaf1ba5",
   "metadata": {
    "collapsed": false
   },
   "outputs": [],
   "source": [
    "sample_params = SamplingParams(max_tokens=1024,\n",
    "                               temperature=0.7,\n",
    "                               top_p=0.9,\n",
    "                               repetition_penalty=1.2,\n",
    "                               skip_special_tokens=True)"
   ]
  },
  {
   "cell_type": "code",
   "execution_count": null,
   "id": "18cb47c629d36a38",
   "metadata": {
    "collapsed": false
   },
   "outputs": [],
   "source": [
    "template = \"\"\"<s>[INST] Bạn là một trợ lý AI. Bạn sẽ được giao một nhiệm vụ. Hãy tóm lược ngắn gọn nội dung sau bằng tiếng Việt:\n",
    "{} [/INST] \"\"\""
   ]
  },
  {
   "cell_type": "code",
   "execution_count": null,
   "id": "8de35050220e391d",
   "metadata": {
    "collapsed": false
   },
   "outputs": [],
   "source": [
    "def create_prompt(sample):\n",
    "    prompt = template.format(sample)\n",
    "    return prompt"
   ]
  },
  {
   "cell_type": "code",
   "execution_count": null,
   "id": "fc4d0ec343425908",
   "metadata": {
    "collapsed": false
   },
   "outputs": [],
   "source": [
    "full_prompt = []\n",
    "for context in full_data_test['context'].tolist():\n",
    "    prompt = create_prompt(context)\n",
    "    full_prompt.append(prompt)"
   ]
  },
  {
   "cell_type": "code",
   "execution_count": null,
   "id": "c6ab77e2783ff343",
   "metadata": {
    "collapsed": false
   },
   "outputs": [],
   "source": [
    "outputs = llm.generate(full_prompt, sample_params)"
   ]
  },
  {
   "cell_type": "code",
   "execution_count": null,
   "id": "e70a3ddeaa0c9429",
   "metadata": {
    "collapsed": false
   },
   "outputs": [],
   "source": [
    "summarized_predictions = []\n",
    "for summarization in outputs:\n",
    "    summarized_predictions.append(summarization.outputs[0].text)"
   ]
  },
  {
   "cell_type": "code",
   "execution_count": null,
   "id": "84b4d2f6247b04a9",
   "metadata": {
    "collapsed": false
   },
   "outputs": [],
   "source": [
    "full_data_test['summarization_predictions'] = summarized_predictions"
   ]
  },
  {
   "cell_type": "code",
   "execution_count": null,
   "id": "ef7763eb",
   "metadata": {},
   "outputs": [],
   "source": [
    "rouge_metric = evaluate.load(\"rouge\")\n",
    "rouge_scores = rouge_metric.compute(references=full_data_test['summarization'].tolist(), predictions=full_data_test['summarization_predictions'].tolist())"
   ]
  },
  {
   "cell_type": "code",
   "execution_count": null,
   "id": "aaa17e8bd83fd88b",
   "metadata": {
    "collapsed": false
   },
   "outputs": [],
   "source": [
    "rouge_scores"
   ]
  },
  {
   "cell_type": "code",
   "execution_count": null,
   "id": "bd2930552f0f3689",
   "metadata": {
    "collapsed": false
   },
   "outputs": [],
   "source": []
  }
 ],
 "metadata": {
  "kernelspec": {
   "display_name": "Python 3",
   "language": "python",
   "name": "python3"
  },
  "language_info": {
   "codemirror_mode": {
    "name": "ipython",
    "version": 2
   },
   "file_extension": ".py",
   "mimetype": "text/x-python",
   "name": "python",
   "nbconvert_exporter": "python",
   "pygments_lexer": "ipython2",
   "version": "2.7.6"
  }
 },
 "nbformat": 4,
 "nbformat_minor": 5
}
